{
 "cells": [
  {
   "cell_type": "markdown",
   "id": "2809f570",
   "metadata": {},
   "source": [
    "### Functions"
   ]
  },
  {
   "cell_type": "markdown",
   "id": "2327ef86",
   "metadata": {},
   "source": [
    "> A function is a Block of Code that performs a specific   \n",
    "task . Functions help in organizing code, reusing code, and   \n",
    "improving readability."
   ]
  },
  {
   "cell_type": "code",
   "execution_count": null,
   "id": "e972c194",
   "metadata": {},
   "outputs": [],
   "source": [
    "## Syntex\n",
    "def function_name(parameters):\n",
    "    \"\"\"Docstring\"\"\"\n",
    "    #function body\n",
    "    return expression"
   ]
  },
  {
   "cell_type": "code",
   "execution_count": 1,
   "id": "1f308fb2",
   "metadata": {},
   "outputs": [
    {
     "name": "stdout",
     "output_type": "stream",
     "text": [
      "number is even\n"
     ]
    }
   ],
   "source": [
    "### Why functions?\n",
    "num = 24\n",
    "if num%2==0:\n",
    "    print(\"number is even\")\n",
    "else:\n",
    "    print(\"number is odd\")"
   ]
  },
  {
   "cell_type": "code",
   "execution_count": 2,
   "id": "b316377c",
   "metadata": {},
   "outputs": [],
   "source": [
    "def even_or_odd(num):\n",
    "    \"\"\"This function performs find even or odd\"\"\"\n",
    "    if num%2==0:\n",
    "        print(\"number is even\")\n",
    "    else:\n",
    "        print(\"number is odd\")"
   ]
  },
  {
   "cell_type": "code",
   "execution_count": null,
   "id": "d05a9445",
   "metadata": {},
   "outputs": [
    {
     "name": "stdout",
     "output_type": "stream",
     "text": [
      "number is even\n"
     ]
    }
   ],
   "source": [
    "## Call this function\n",
    "even_or_odd(34)"
   ]
  },
  {
   "cell_type": "code",
   "execution_count": 4,
   "id": "6c0b29fe",
   "metadata": {},
   "outputs": [
    {
     "name": "stdout",
     "output_type": "stream",
     "text": [
      "6\n"
     ]
    }
   ],
   "source": [
    "## function with multiple parameter\n",
    "\n",
    "def add(a,b):\n",
    "    return a+b\n",
    "\n",
    "result = add(2,4)\n",
    "print(result)"
   ]
  },
  {
   "cell_type": "code",
   "execution_count": null,
   "id": "2f49fc63",
   "metadata": {},
   "outputs": [
    {
     "name": "stdout",
     "output_type": "stream",
     "text": [
      "hello kanhaiya , Welcome to Office\n",
      "hello guest , Welcome to Office\n"
     ]
    }
   ],
   "source": [
    "### Default paremeters\n",
    "\n",
    "def greet(name=\"guest\"): ## Default parameter\n",
    "    print(f\"hello {name} , Welcome to Office\")\n",
    "\n",
    "greet(\"kanhaiya\")\n",
    "greet()"
   ]
  },
  {
   "cell_type": "code",
   "execution_count": null,
   "id": "b3ccb1b6",
   "metadata": {},
   "outputs": [],
   "source": [
    "## Variable length argument\n",
    "\n",
    "## Positional keyword Argument\n",
    "def print_numbers(*args):  ## Here args may be anything\n",
    "    for numbers in args:\n",
    "        print(numbers)"
   ]
  },
  {
   "cell_type": "code",
   "execution_count": 11,
   "id": "9aae82b0",
   "metadata": {},
   "outputs": [
    {
     "name": "stdout",
     "output_type": "stream",
     "text": [
      "1\n",
      "2\n",
      "3\n",
      "4\n",
      "5\n",
      "6\n",
      "7\n",
      "8\n",
      "9\n",
      "kanhaiya\n"
     ]
    }
   ],
   "source": [
    "print_numbers(1,2,3,4,5,6,7,8,9,\"kanhaiya\")"
   ]
  },
  {
   "cell_type": "code",
   "execution_count": 17,
   "id": "dcd790a8",
   "metadata": {},
   "outputs": [],
   "source": [
    "## Keyword Arguments\n",
    "\n",
    "def print_details(**kwargs):\n",
    "    for key,value in kwargs.items():\n",
    "        print(f\"{key}:{value}\")"
   ]
  },
  {
   "cell_type": "code",
   "execution_count": 18,
   "id": "3e2df97b",
   "metadata": {},
   "outputs": [
    {
     "name": "stdout",
     "output_type": "stream",
     "text": [
      "name:kanhaiya\n",
      "age:20\n"
     ]
    }
   ],
   "source": [
    "print_details(name=\"kanhaiya\",age=20)"
   ]
  },
  {
   "cell_type": "code",
   "execution_count": 23,
   "id": "e0ebe8cf",
   "metadata": {},
   "outputs": [],
   "source": [
    "def print_details(*args,**kargs):\n",
    "    for numbers in args:\n",
    "        print(f\"Positional Argument are {numbers}\")\n",
    "    for key,value in  kargs.items():\n",
    "        print(f\"{key}:{value}\")"
   ]
  },
  {
   "cell_type": "code",
   "execution_count": 24,
   "id": "fb170acc",
   "metadata": {},
   "outputs": [
    {
     "name": "stdout",
     "output_type": "stream",
     "text": [
      "Positional Argument are 1\n",
      "Positional Argument are 2\n",
      "Positional Argument are 3\n",
      "Positional Argument are 4\n",
      "Positional Argument are 5\n",
      "name:kanhaiya\n",
      "age:20\n",
      "marks:96\n"
     ]
    }
   ],
   "source": [
    "print_details(1,2,3,4,5,name=\"kanhaiya\",age=20,marks=96)"
   ]
  },
  {
   "cell_type": "code",
   "execution_count": 27,
   "id": "37b25cec",
   "metadata": {},
   "outputs": [
    {
     "data": {
      "text/plain": [
       "8"
      ]
     },
     "execution_count": 27,
     "metadata": {},
     "output_type": "execute_result"
    }
   ],
   "source": [
    "### Return Statement\n",
    "\n",
    "def multiply(a,b):\n",
    "    return a*b\n",
    "multiply(2,4)"
   ]
  },
  {
   "cell_type": "code",
   "execution_count": 29,
   "id": "a30e3f51",
   "metadata": {},
   "outputs": [
    {
     "data": {
      "text/plain": [
       "(8, 6)"
      ]
     },
     "execution_count": 29,
     "metadata": {},
     "output_type": "execute_result"
    }
   ],
   "source": [
    "### Return Statement\n",
    "\n",
    "def multiply(a,b):\n",
    "    return a*b,a+b\n",
    "multiply(2,4)"
   ]
  }
 ],
 "metadata": {
  "kernelspec": {
   "display_name": "Python 3",
   "language": "python",
   "name": "python3"
  },
  "language_info": {
   "codemirror_mode": {
    "name": "ipython",
    "version": 3
   },
   "file_extension": ".py",
   "mimetype": "text/x-python",
   "name": "python",
   "nbconvert_exporter": "python",
   "pygments_lexer": "ipython3",
   "version": "3.10.0"
  }
 },
 "nbformat": 4,
 "nbformat_minor": 5
}
