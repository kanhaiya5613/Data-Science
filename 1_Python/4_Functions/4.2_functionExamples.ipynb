{
 "cells": [
  {
   "cell_type": "markdown",
   "id": "47558b83",
   "metadata": {},
   "source": [
    "### Functions Example"
   ]
  },
  {
   "cell_type": "markdown",
   "id": "75ec965d",
   "metadata": {},
   "source": [
    "## Example - 1\n",
    "convert temperature from celcious to degree and degree to celcious"
   ]
  },
  {
   "cell_type": "code",
   "execution_count": 2,
   "id": "75daf7cb",
   "metadata": {},
   "outputs": [
    {
     "name": "stdout",
     "output_type": "stream",
     "text": [
      "77.0\n"
     ]
    }
   ],
   "source": [
    "\n",
    "def convert_temperature(temp,unit):\n",
    "    \"\"\"TThis function converts temperature between celsius and fahrenheit \"\"\"\n",
    "    if unit== 'C':\n",
    "        return temp * 9/5 + 32\n",
    "    elif unit==\"F\":\n",
    "        return temp * 5/9\n",
    "    else:\n",
    "        return None\n",
    "\n",
    "print(convert_temperature(25,\"C\"))\n"
   ]
  },
  {
   "cell_type": "markdown",
   "id": "9e072b5d",
   "metadata": {},
   "source": [
    "## Example 2\n",
    "Check the Strength of a Password"
   ]
  },
  {
   "cell_type": "code",
   "execution_count": 7,
   "id": "cb2dd9f6",
   "metadata": {},
   "outputs": [
    {
     "name": "stdout",
     "output_type": "stream",
     "text": [
      "False\n",
      "True\n"
     ]
    }
   ],
   "source": [
    "def is_Strong_Password(password):\n",
    "    \"\"\"This Function checks if the password is strong or not\"\"\"\n",
    "    if(len(password)<8):\n",
    "        return False\n",
    "    if not any(char.isdigit() for char in password):\n",
    "        return False\n",
    "    if not any(char.islower() for char in password):\n",
    "        return False\n",
    "    if not any(char.isupper() for char in password):\n",
    "        return False\n",
    "    if not any(char in '!@#$%^&*()_+' for char in password):\n",
    "        return False\n",
    "    return True\n",
    "\n",
    "## calling the function\n",
    "print(is_Strong_Password(\"kanhaiya\"))\n",
    "print(is_Strong_Password(\"Kanhaiya@123\"))"
   ]
  },
  {
   "cell_type": "markdown",
   "id": "86ffc893",
   "metadata": {},
   "source": [
    "## Example : 3\n",
    "Calculate the total cost of items in Shopping Cart"
   ]
  },
  {
   "cell_type": "code",
   "execution_count": 8,
   "id": "5b5da5ea",
   "metadata": {},
   "outputs": [
    {
     "name": "stdout",
     "output_type": "stream",
     "text": [
      "5.8999999999999995\n"
     ]
    }
   ],
   "source": [
    "def calculate_total_cost(cart):\n",
    "    total_cost=0\n",
    "    for item in cart:\n",
    "        total_cost+=item['price']* item['quantity']\n",
    "    return total_cost\n",
    "\n",
    "## Example cart data\n",
    "\n",
    "cart = [\n",
    "    {'name':'Apple','price':0.5,'quantity':4},\n",
    "    {'name':'Banana','price':0.3,'quantity':6},\n",
    "    {'name':'orange','price':0.7,'quantity':3}\n",
    "]\n",
    "\n",
    "total_cost=calculate_total_cost(cart)\n",
    "print(total_cost)"
   ]
  },
  {
   "cell_type": "markdown",
   "id": "dab373e5",
   "metadata": {},
   "source": [
    "### Example 4\n",
    "Checking a String is palindrome or not\n"
   ]
  },
  {
   "cell_type": "code",
   "execution_count": 10,
   "id": "a654e764",
   "metadata": {},
   "outputs": [
    {
     "name": "stdout",
     "output_type": "stream",
     "text": [
      "True\n",
      "False\n"
     ]
    }
   ],
   "source": [
    "def is_palindrome(s):\n",
    "    s=s.lower().replace(\" \",\"\")\n",
    "    return s==s[::-1]\n",
    "\n",
    "print(is_palindrome(\"A man a plan a canal Panama\"))\n",
    "print(is_palindrome(\"hello\"))"
   ]
  },
  {
   "cell_type": "markdown",
   "id": "1fa43eb1",
   "metadata": {},
   "source": [
    "## Example 5\n",
    "Calculate Factorial of a function using recursion"
   ]
  },
  {
   "cell_type": "code",
   "execution_count": 11,
   "id": "38946987",
   "metadata": {},
   "outputs": [
    {
     "name": "stdout",
     "output_type": "stream",
     "text": [
      "720\n"
     ]
    }
   ],
   "source": [
    "def factorial(n):\n",
    "    if(n==1):\n",
    "        return 1\n",
    "    else:\n",
    "        return n*factorial(n-1)\n",
    "print(factorial(6))"
   ]
  },
  {
   "cell_type": "markdown",
   "id": "abceae25",
   "metadata": {},
   "source": [
    "## Example 6 \n",
    "A Function To Read A File and Count the frequency of each word"
   ]
  },
  {
   "cell_type": "code",
   "execution_count": 16,
   "id": "90a790bd",
   "metadata": {},
   "outputs": [
    {
     "name": "stdout",
     "output_type": "stream",
     "text": [
      "{'good': 1, 'morning': 1, 'guys': 1, 'myself': 1, 'kanhaiya': 1, 'kumat': 1}\n"
     ]
    }
   ],
   "source": [
    "def FrequencyCount(file_path):\n",
    "    word_Count={}\n",
    "    with open(file_path,'r') as file:\n",
    "        for line in file:\n",
    "            words = line.split()\n",
    "            for word in words:\n",
    "                word=word.lower().strip('.,!?:;\"\\'')\n",
    "                word_Count[word]=word_Count.get(word,0)+1\n",
    "    return word_Count\n",
    "\n",
    "filepath='sample.txt'\n",
    "word_frequency=FrequencyCount(filepath)\n",
    "print(word_frequency)"
   ]
  },
  {
   "cell_type": "markdown",
   "id": "b80b2734",
   "metadata": {},
   "source": [
    "### Example 7: Validate Email Edress"
   ]
  },
  {
   "cell_type": "code",
   "execution_count": 18,
   "id": "4bf14893",
   "metadata": {},
   "outputs": [
    {
     "name": "stdout",
     "output_type": "stream",
     "text": [
      "True\n",
      "False\n"
     ]
    }
   ],
   "source": [
    "import re\n",
    "\n",
    "def is_valid_email(email):\n",
    "    \"\"\"This function checks if the email is valid\"\"\"\n",
    "    pattern = r'^[a-zA-Z0-9_.+-]+@[a-zA-Z0-9-]+\\.[a-zA-Z0-9-.]+$'\n",
    "    return re.match(pattern, email) is not None\n",
    "\n",
    "# Calling the function\n",
    "print(is_valid_email(\"test@example.com\"))   # ✅ True\n",
    "print(is_valid_email(\"Invalid email\"))      # ❌ False\n"
   ]
  }
 ],
 "metadata": {
  "kernelspec": {
   "display_name": "Python 3",
   "language": "python",
   "name": "python3"
  },
  "language_info": {
   "codemirror_mode": {
    "name": "ipython",
    "version": 3
   },
   "file_extension": ".py",
   "mimetype": "text/x-python",
   "name": "python",
   "nbconvert_exporter": "python",
   "pygments_lexer": "ipython3",
   "version": "3.10.0"
  }
 },
 "nbformat": 4,
 "nbformat_minor": 5
}
