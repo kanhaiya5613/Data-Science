{
 "cells": [
  {
   "cell_type": "markdown",
   "id": "e99ee42c",
   "metadata": {},
   "source": [
    "## Decorators\n",
    "Decorators are a powerful and flexible features in python that allows to modify the behavior of a function or class method. They are commonly used to add functionality to functions or methods without modifying their actual code. This lesson covers the besics of decorators ,including how to create and use them"
   ]
  },
  {
   "cell_type": "code",
   "execution_count": 21,
   "id": "c6152064",
   "metadata": {},
   "outputs": [
    {
     "data": {
      "text/plain": [
       "'Welcome to the advanced python code'"
      ]
     },
     "execution_count": 21,
     "metadata": {},
     "output_type": "execute_result"
    }
   ],
   "source": [
    "## Function copy\n",
    "def welcome():\n",
    "    return \"Welcome to the advanced python code\"\n",
    "\n",
    "welcome()"
   ]
  },
  {
   "cell_type": "code",
   "execution_count": 22,
   "id": "a8806e0f",
   "metadata": {},
   "outputs": [
    {
     "name": "stdout",
     "output_type": "stream",
     "text": [
      "Welcome to the advanced python code\n"
     ]
    },
    {
     "data": {
      "text/plain": [
       "'Welcome to the advanced python code'"
      ]
     },
     "execution_count": 22,
     "metadata": {},
     "output_type": "execute_result"
    }
   ],
   "source": [
    "wel=welcome\n",
    "print(wel())\n",
    "del welcome\n",
    "wel()"
   ]
  },
  {
   "cell_type": "code",
   "execution_count": 29,
   "id": "2163e604",
   "metadata": {},
   "outputs": [],
   "source": [
    "## Closures functions\n",
    "def main_welcome(msg):\n",
    "    \n",
    "    def sub_welcome_method():\n",
    "        print(\"welcome to the advanced python course\")\n",
    "        print(msg)\n",
    "        print(\"Please learn these concepts properly\")\n",
    "    return sub_welcome_method()"
   ]
  },
  {
   "cell_type": "code",
   "execution_count": 30,
   "id": "e962437d",
   "metadata": {},
   "outputs": [
    {
     "name": "stdout",
     "output_type": "stream",
     "text": [
      "welcome to the advanced python course\n",
      "Welcome Everyone\n",
      "Please learn these concepts properly\n"
     ]
    }
   ],
   "source": [
    "main_welcome(\"Welcome Everyone\")"
   ]
  },
  {
   "cell_type": "code",
   "execution_count": 42,
   "id": "5398f0f0",
   "metadata": {},
   "outputs": [],
   "source": [
    "def main_welcome(func):\n",
    "    \n",
    "    def sub_welcome_method():\n",
    "        print(\"welcome to the advanced python course\")\n",
    "        func(\"Welcome everyone to this tutorial\")\n",
    "        print(\"Please learn these concepts properly\")\n",
    "    return sub_welcome_method()"
   ]
  },
  {
   "cell_type": "code",
   "execution_count": 45,
   "id": "984d8483",
   "metadata": {},
   "outputs": [
    {
     "name": "stdout",
     "output_type": "stream",
     "text": [
      "welcome to the advanced python course\n",
      "Welcome everyone to this tutorial\n",
      "Please learn these concepts properly\n"
     ]
    }
   ],
   "source": [
    "main_welcome(print)\n",
    "#main_welcome(func)"
   ]
  },
  {
   "cell_type": "code",
   "execution_count": 49,
   "id": "bbbaa500",
   "metadata": {},
   "outputs": [],
   "source": [
    "def main_welcome(func,lst):\n",
    "    \n",
    "    def sub_welcome_method():\n",
    "        print(\"welcome to the advanced python course\")\n",
    "        print(func(lst))\n",
    "        print(\"Please learn these concepts properly\")\n",
    "    return sub_welcome_method()"
   ]
  },
  {
   "cell_type": "code",
   "execution_count": 50,
   "id": "862443c3",
   "metadata": {},
   "outputs": [
    {
     "name": "stdout",
     "output_type": "stream",
     "text": [
      "welcome to the advanced python course\n",
      "6\n",
      "Please learn these concepts properly\n"
     ]
    }
   ],
   "source": [
    "main_welcome(len,[1,2,3,4,5,6])"
   ]
  },
  {
   "cell_type": "code",
   "execution_count": 51,
   "id": "03c7d0d0",
   "metadata": {},
   "outputs": [],
   "source": [
    "### Decorator\n",
    "def main_welcome(func):\n",
    "    \n",
    "    def sub_welcome_method():\n",
    "        print(\"welcome to the advanced python course\")\n",
    "        func()\n",
    "        print(\"Please learn these concepts properly\")\n",
    "    return sub_welcome_method()"
   ]
  },
  {
   "cell_type": "code",
   "execution_count": 52,
   "id": "f282193c",
   "metadata": {},
   "outputs": [
    {
     "name": "stdout",
     "output_type": "stream",
     "text": [
      "This is an advanced python course\n"
     ]
    }
   ],
   "source": [
    "def course_introduction():\n",
    "    print(\"This is an advanced python course\")\n",
    "course_introduction()"
   ]
  },
  {
   "cell_type": "code",
   "execution_count": 54,
   "id": "046d9bb4",
   "metadata": {},
   "outputs": [
    {
     "name": "stdout",
     "output_type": "stream",
     "text": [
      "welcome to the advanced python course\n",
      "This is an advanced python course\n",
      "Please learn these concepts properly\n"
     ]
    }
   ],
   "source": [
    "main_welcome(course_introduction)"
   ]
  },
  {
   "cell_type": "code",
   "execution_count": null,
   "id": "dd4035a1",
   "metadata": {},
   "outputs": [
    {
     "name": "stdout",
     "output_type": "stream",
     "text": [
      "welcome to the advanced python course\n",
      "This is an advanced prthon course\n",
      "Please learn these concepts properly\n"
     ]
    }
   ],
   "source": [
    "## Here main_Welcome takes course_introdiction as a attribute\n",
    "@main_welcome\n",
    "def course_introduction():\n",
    "    print(\"This is an advanced prthon course\")"
   ]
  },
  {
   "cell_type": "code",
   "execution_count": 56,
   "id": "6c77db2b",
   "metadata": {},
   "outputs": [],
   "source": [
    "## Decorator \n",
    "def my_decorator(func):\n",
    "    def wrapper():\n",
    "        print(\"Something is happening before the function is called.\")\n",
    "        func()\n",
    "        print(\"something is happening after the function id called.\")\n",
    "    return wrapper"
   ]
  },
  {
   "cell_type": "code",
   "execution_count": 57,
   "id": "23907035",
   "metadata": {},
   "outputs": [],
   "source": [
    "@my_decorator\n",
    "def say_hello():\n",
    "    print(\"Hello\")"
   ]
  },
  {
   "cell_type": "code",
   "execution_count": 58,
   "id": "b15b270d",
   "metadata": {},
   "outputs": [
    {
     "name": "stdout",
     "output_type": "stream",
     "text": [
      "Something is happening before the function is called.\n",
      "Hello\n",
      "something is happening after the function id called.\n"
     ]
    }
   ],
   "source": [
    "say_hello()"
   ]
  },
  {
   "cell_type": "code",
   "execution_count": 69,
   "id": "27480b3f",
   "metadata": {},
   "outputs": [],
   "source": [
    "## Decorators with arguments\n",
    "def repeat(n):\n",
    "    def decorator(func):\n",
    "        def wrapper(*args,**kwargs):\n",
    "            for i in range(n):\n",
    "                func(*args,**kwargs)\n",
    "\n",
    "        return wrapper\n",
    "    return decorator"
   ]
  },
  {
   "cell_type": "code",
   "execution_count": 70,
   "id": "e3296890",
   "metadata": {},
   "outputs": [],
   "source": [
    "@repeat(3)\n",
    "def say_hello():\n",
    "    print(\"hello\")"
   ]
  },
  {
   "cell_type": "code",
   "execution_count": 72,
   "id": "7f8a41c3",
   "metadata": {},
   "outputs": [
    {
     "name": "stdout",
     "output_type": "stream",
     "text": [
      "hello\n",
      "hello\n",
      "hello\n"
     ]
    }
   ],
   "source": [
    "say_hello()"
   ]
  }
 ],
 "metadata": {
  "kernelspec": {
   "display_name": "newvenv",
   "language": "python",
   "name": "python3"
  },
  "language_info": {
   "codemirror_mode": {
    "name": "ipython",
    "version": 3
   },
   "file_extension": ".py",
   "mimetype": "text/x-python",
   "name": "python",
   "nbconvert_exporter": "python",
   "pygments_lexer": "ipython3",
   "version": "3.13.5"
  }
 },
 "nbformat": 4,
 "nbformat_minor": 5
}
