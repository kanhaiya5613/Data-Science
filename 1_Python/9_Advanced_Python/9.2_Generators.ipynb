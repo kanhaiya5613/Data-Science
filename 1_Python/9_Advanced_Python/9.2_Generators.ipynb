{
 "cells": [
  {
   "cell_type": "markdown",
   "id": "7000a1a5",
   "metadata": {},
   "source": [
    "## Generators"
   ]
  },
  {
   "cell_type": "markdown",
   "id": "2a6f9ed1",
   "metadata": {},
   "source": [
    "geenerators are the simpler way to create iterators. They use the yiels keyword to produce a series of value lazily, which means they generate values on the fly and do not store them in memory"
   ]
  },
  {
   "cell_type": "code",
   "execution_count": 16,
   "id": "a181a189",
   "metadata": {},
   "outputs": [],
   "source": [
    "def square(n):\n",
    "    for i in range(n):\n",
    "        yield i**2\n"
   ]
  },
  {
   "cell_type": "code",
   "execution_count": 26,
   "id": "f94298e5",
   "metadata": {},
   "outputs": [],
   "source": [
    "a = square(3)"
   ]
  },
  {
   "cell_type": "code",
   "execution_count": 27,
   "id": "83f66223",
   "metadata": {},
   "outputs": [
    {
     "data": {
      "text/plain": [
       "0"
      ]
     },
     "execution_count": 27,
     "metadata": {},
     "output_type": "execute_result"
    }
   ],
   "source": [
    "next(a)"
   ]
  },
  {
   "cell_type": "code",
   "execution_count": 18,
   "id": "671fe9fe",
   "metadata": {},
   "outputs": [
    {
     "name": "stdout",
     "output_type": "stream",
     "text": [
      "0\n",
      "1\n",
      "4\n",
      "9\n",
      "16\n",
      "25\n"
     ]
    }
   ],
   "source": [
    "for i in square(6):\n",
    "    print(i)"
   ]
  },
  {
   "cell_type": "code",
   "execution_count": 29,
   "id": "3bfb0ced",
   "metadata": {},
   "outputs": [],
   "source": [
    "def my_generator():\n",
    "    yield 1\n",
    "    yield 2\n",
    "    yield 3"
   ]
  },
  {
   "cell_type": "code",
   "execution_count": 41,
   "id": "b020cfc3",
   "metadata": {},
   "outputs": [
    {
     "data": {
      "text/plain": [
       "<generator object my_generator at 0x0000016563D4DDD0>"
      ]
     },
     "execution_count": 41,
     "metadata": {},
     "output_type": "execute_result"
    }
   ],
   "source": [
    "gen = my_generator()\n",
    "gen"
   ]
  },
  {
   "cell_type": "code",
   "execution_count": 42,
   "id": "0a587f41",
   "metadata": {},
   "outputs": [
    {
     "data": {
      "text/plain": [
       "1"
      ]
     },
     "execution_count": 42,
     "metadata": {},
     "output_type": "execute_result"
    }
   ],
   "source": [
    "next(gen)"
   ]
  },
  {
   "cell_type": "code",
   "execution_count": 43,
   "id": "588af4c5",
   "metadata": {},
   "outputs": [
    {
     "name": "stdout",
     "output_type": "stream",
     "text": [
      "2\n",
      "3\n"
     ]
    }
   ],
   "source": [
    "for val in gen:\n",
    "    print(val)"
   ]
  },
  {
   "cell_type": "markdown",
   "id": "93bffaab",
   "metadata": {},
   "source": [
    "## Practical Example : Reading Large files"
   ]
  },
  {
   "cell_type": "markdown",
   "id": "aa5be755",
   "metadata": {},
   "source": [
    "Generators are perticularly useful for reading large files because they allow to process one line at a time without loading the file into memory."
   ]
  },
  {
   "cell_type": "code",
   "execution_count": 46,
   "id": "4a90c95a",
   "metadata": {},
   "outputs": [],
   "source": [
    "def read_large_file(file_path):\n",
    "    with open(file_path,'r') as file:\n",
    "        for line in file:\n",
    "            yield line"
   ]
  },
  {
   "cell_type": "code",
   "execution_count": 47,
   "id": "7b11aae3",
   "metadata": {},
   "outputs": [
    {
     "name": "stdout",
     "output_type": "stream",
     "text": [
      "Indian President: Some Random Information\n",
      "\n",
      "1. Role:\n",
      "- The President of India serves as the ceremonial head of state and represents the unity, integrity, and symmetry of the nation.\n",
      "- The position is mainly symbolic, while executive powers are exercised by the Prime Minister and the Council of Ministers.\n",
      "\n",
      "2. Election Process:\n",
      "- Elected by an Electoral College that includes elected members of both houses of Parliament and the Legislative Assemblies of the States.\n",
      "- The election system is a proportional representation using the Single Transferable Vote.\n",
      "\n",
      "3. Historical Facts:\n",
      "- The first President of India was Dr. Rajendra Prasad, who took office in 1950.\n",
      "- Over the years, several Presidents have served, each contributing in their own way to the fabric of Indian democracy.\n",
      "\n",
      "4. Residence and Ceremonial Duties:\n",
      "- The official residence is the Rashtrapati Bhavan in New Delhi, an architectural landmark and a symbol of the nation.\n",
      "- Besides ceremonial functions, the President plays a crucial role during times of political uncertainty or national crises.\n",
      "\n",
      "5. Miscellaneous:\n",
      "- The President has the power to grant pardons, reprieves, and remissions of punishment, which is an important check within the judicial system.\n",
      "- Cultural engagement: The President often represents India on the global stage, promoting its rich history and cultural heritage.\n",
      "- Although often described as â€˜the first citizenâ€™ of India, the role is more about upholding constitutional values than wielding executive power.\n",
      "\n",
      "Note: This is a collection of random facts intended for general information and may not reflect the most current details. Always refer to reliable sources for the latest updates.\n"
     ]
    }
   ],
   "source": [
    "file_path = 'large_file.txt'\n",
    "\n",
    "for line in read_large_file(file_path):\n",
    "    print(line.strip())"
   ]
  }
 ],
 "metadata": {
  "kernelspec": {
   "display_name": "newvenv",
   "language": "python",
   "name": "python3"
  },
  "language_info": {
   "codemirror_mode": {
    "name": "ipython",
    "version": 3
   },
   "file_extension": ".py",
   "mimetype": "text/x-python",
   "name": "python",
   "nbconvert_exporter": "python",
   "pygments_lexer": "ipython3",
   "version": "3.13.5"
  }
 },
 "nbformat": 4,
 "nbformat_minor": 5
}
