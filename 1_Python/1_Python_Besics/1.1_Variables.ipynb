{
 "cells": [
  {
   "cell_type": "code",
   "execution_count": null,
   "id": "713fbbd8",
   "metadata": {},
   "outputs": [],
   "source": [
    "Variables\n"
   ]
  },
  {
   "cell_type": "code",
   "execution_count": 1,
   "id": "7fc62479",
   "metadata": {},
   "outputs": [
    {
     "name": "stdout",
     "output_type": "stream",
     "text": [
      "age:  32\n",
      "Height:  6.1\n",
      "Name: kanhaiya\n"
     ]
    }
   ],
   "source": [
    "## Declaring and Assigning variables\n",
    "\n",
    "age = 32\n",
    "height = 6.1\n",
    "name = \"kanhaiya\"\n",
    "is_Student=True\n",
    "\n",
    "\n",
    "## printing the variables\n",
    "\n",
    "print(\"age: \",age)\n",
    "print(\"Height: \",height)\n",
    "print(\"Name:\",name)"
   ]
  },
  {
   "cell_type": "code",
   "execution_count": null,
   "id": "f9beb8b9",
   "metadata": {},
   "outputs": [],
   "source": [
    "## Naming Convensions\n",
    "## variable name should be descriptive\n",
    "## they must start with a latter ar an '_' and contains letter , numbers and underscores\n",
    "## variable names case sensitive "
   ]
  },
  {
   "cell_type": "code",
   "execution_count": null,
   "id": "f0f6df53",
   "metadata": {},
   "outputs": [],
   "source": [
    "## Invalid variable names\n",
    "# 2age = 30\n",
    "# first-name=\"kanhaiya\""
   ]
  },
  {
   "cell_type": "code",
   "execution_count": null,
   "id": "f15a3326",
   "metadata": {},
   "outputs": [],
   "source": [
    "# Case Sensitivity\n",
    "\n",
    "Name = \"kanhaiya\"\n",
    "name = \"kumar\"\n",
    "#both names are different"
   ]
  },
  {
   "cell_type": "code",
   "execution_count": null,
   "id": "79bf90dd",
   "metadata": {},
   "outputs": [],
   "source": [
    "## understand variable types\n",
    "\n",
    "## Python is dynamically typed , type of variable determined at runtime\n",
    "\n",
    "age = 20 # int \n",
    "height = 5.10 # float\n",
    "name = \"kanhaiya\" #str\n",
    "is_Student = True #bool"
   ]
  },
  {
   "cell_type": "code",
   "execution_count": null,
   "id": "e24bee48",
   "metadata": {},
   "outputs": [],
   "source": [
    "#Type checking and conversion\n",
    "\n",
    "type(height)"
   ]
  },
  {
   "cell_type": "code",
   "execution_count": 2,
   "id": "bbb2f1b8",
   "metadata": {},
   "outputs": [
    {
     "name": "stdout",
     "output_type": "stream",
     "text": [
      "<class 'int'>\n",
      "25\n",
      "<class 'str'>\n"
     ]
    }
   ],
   "source": [
    "age = 25\n",
    "print(type(age))\n",
    "\n",
    "#type conversion\n",
    "age_str = str(age)\n",
    "print(age_str)\n",
    "print(type(age_str))"
   ]
  },
  {
   "cell_type": "code",
   "execution_count": null,
   "id": "369cc622",
   "metadata": {},
   "outputs": [],
   "source": [
    "age ='25'\n",
    "print(type(int(age)))\n"
   ]
  },
  {
   "cell_type": "code",
   "execution_count": 6,
   "id": "0a344767",
   "metadata": {},
   "outputs": [
    {
     "data": {
      "text/plain": [
       "float"
      ]
     },
     "execution_count": 6,
     "metadata": {},
     "output_type": "execute_result"
    }
   ],
   "source": [
    "height=5.11\n",
    "type(height)\n"
   ]
  },
  {
   "cell_type": "code",
   "execution_count": 9,
   "id": "7967165c",
   "metadata": {},
   "outputs": [
    {
     "name": "stdout",
     "output_type": "stream",
     "text": [
      "5\n"
     ]
    }
   ],
   "source": [
    "print(int(height))"
   ]
  },
  {
   "cell_type": "code",
   "execution_count": 10,
   "id": "8dedc41b",
   "metadata": {},
   "outputs": [
    {
     "name": "stdout",
     "output_type": "stream",
     "text": [
      "10 <class 'int'>\n",
      "Hello <class 'str'>\n",
      "3.14 <class 'float'>\n"
     ]
    }
   ],
   "source": [
    "## Dynamic Typing\n",
    "##Python allows the type of a variable to change as the program executes\n",
    "var = 10 \n",
    "print(var,type(var))\n",
    "\n",
    "var=\"Hello\"\n",
    "print(var,type(var))\n",
    "\n",
    "var = 3.14\n",
    "print(var,type(var))"
   ]
  },
  {
   "cell_type": "code",
   "execution_count": 12,
   "id": "45b6980b",
   "metadata": {},
   "outputs": [
    {
     "name": "stdout",
     "output_type": "stream",
     "text": [
      "52 <class 'str'>\n"
     ]
    }
   ],
   "source": [
    "## Input \n",
    "age=input(\"what is the age : \")\n",
    "print(age,type(age))"
   ]
  },
  {
   "cell_type": "code",
   "execution_count": 16,
   "id": "e559a7ad",
   "metadata": {},
   "outputs": [
    {
     "name": "stdout",
     "output_type": "stream",
     "text": [
      "sum :  9.0\n",
      "diff:  1.0\n",
      "product :  20.0\n",
      "Quotient: 1.25\n"
     ]
    }
   ],
   "source": [
    "#simple Calculator\n",
    "\n",
    "num1 = float(input(\"Enter First Number\"))\n",
    "num2 = float(input(\"Enter Second Number\"))\n",
    "\n",
    "sum=num1+num2\n",
    "diff = num1-num2\n",
    "product=num1*num2\n",
    "quotient = num1/num2\n",
    "\n",
    "print(\"sum : \",sum)\n",
    "print(\"diff: \",diff)\n",
    "print(\"product : \",product)\n",
    "print(\"Quotient:\",quotient)\n"
   ]
  },
  {
   "cell_type": "code",
   "execution_count": null,
   "id": "cfcc4550",
   "metadata": {},
   "outputs": [],
   "source": []
  }
 ],
 "metadata": {
  "kernelspec": {
   "display_name": "Python 3",
   "language": "python",
   "name": "python3"
  },
  "language_info": {
   "codemirror_mode": {
    "name": "ipython",
    "version": 3
   },
   "file_extension": ".py",
   "mimetype": "text/x-python",
   "name": "python",
   "nbconvert_exporter": "python",
   "pygments_lexer": "ipython3",
   "version": "3.10.0"
  }
 },
 "nbformat": 4,
 "nbformat_minor": 5
}
