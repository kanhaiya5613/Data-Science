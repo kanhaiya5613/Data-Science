{
 "cells": [
  {
   "cell_type": "code",
   "execution_count": null,
   "id": "ee9209a9",
   "metadata": {},
   "outputs": [
    {
     "name": "stdout",
     "output_type": "stream",
     "text": [
      "you are allowed to vote in thee election\n"
     ]
    }
   ],
   "source": [
    "## If Statement \n",
    "## The if statement executes a block of code if the condition in the statement is True.\n",
    "age = 20\n",
    "if age>=18:\n",
    "    print(\"you are allowed to vote in thee election\")"
   ]
  },
  {
   "cell_type": "code",
   "execution_count": 2,
   "id": "0bd51e55",
   "metadata": {},
   "outputs": [
    {
     "name": "stdout",
     "output_type": "stream",
     "text": [
      "You Are a Minor\n"
     ]
    }
   ],
   "source": [
    "## else \n",
    "## The else statement executes a block of code if the condition in the statement is False.\n",
    "\n",
    "age = 16\n",
    "if age>=18:\n",
    "    print(\"You are eligible for voting\")\n",
    "else:\n",
    "    print(\"You Are a Minor\")"
   ]
  },
  {
   "cell_type": "code",
   "execution_count": null,
   "id": "5e875e70",
   "metadata": {},
   "outputs": [],
   "source": [
    "## elif Statement\n",
    "## The elif statement alloes you to multiple conditions. It stands for \"else if\"\n",
    "\n",
    "age = 20\n",
    "if age<13:\n",
    "    print(\"you are a child\")\n",
    "elif age<18:\n",
    "    print(\"you are a teenager\")\n",
    "else:\n",
    "    print(\"you are an adult\")\n"
   ]
  },
  {
   "cell_type": "code",
   "execution_count": 8,
   "id": "952b61de",
   "metadata": {},
   "outputs": [
    {
     "name": "stdout",
     "output_type": "stream",
     "text": [
      "The number is positive\n",
      "number is even\n"
     ]
    }
   ],
   "source": [
    "## Nested Conditional Statements\n",
    "\n",
    "# You Can place one more if,elif.or else statementinside another if,elif,or elsemstatement \n",
    "\n",
    "## number even , odd , negative\n",
    "num = int(input(\"Enter the number\"))\n",
    "\n",
    "if(num>0):\n",
    "    print(\"The number is positive\")\n",
    "    if(num%2==0):\n",
    "        print(\"number is even\")\n",
    "    else:\n",
    "        print(\"Number is Odd\")\n",
    "else:\n",
    "    print(\"number is negative or Zero\")\n"
   ]
  },
  {
   "cell_type": "code",
   "execution_count": 10,
   "id": "ad297298",
   "metadata": {},
   "outputs": [
    {
     "name": "stdout",
     "output_type": "stream",
     "text": [
      "2100 is not a leap year\n"
     ]
    }
   ],
   "source": [
    "## Determine if a year is leap year using nested condition stetement\n",
    "\n",
    "year = int(input(\"Enter the year\"))\n",
    "           \n",
    "if(year%4==0):\n",
    "    if(year%100==0):\n",
    "        if(year%400==0):\n",
    "            print(year,\"is a leap year \")\n",
    "        else:\n",
    "            print(year,\"is not a leap year\")\n",
    "    else:\n",
    "        print(year,\"is a leap year\")\n",
    "else:\n",
    "    print(\"year is not a leap year\")        "
   ]
  }
 ],
 "metadata": {
  "kernelspec": {
   "display_name": "Python 3",
   "language": "python",
   "name": "python3"
  },
  "language_info": {
   "codemirror_mode": {
    "name": "ipython",
    "version": 3
   },
   "file_extension": ".py",
   "mimetype": "text/x-python",
   "name": "python",
   "nbconvert_exporter": "python",
   "pygments_lexer": "ipython3",
   "version": "3.10.0"
  }
 },
 "nbformat": 4,
 "nbformat_minor": 5
}
