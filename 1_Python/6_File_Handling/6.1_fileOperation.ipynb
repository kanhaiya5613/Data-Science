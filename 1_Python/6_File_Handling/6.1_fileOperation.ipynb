{
 "cells": [
  {
   "cell_type": "markdown",
   "id": "3da8815d",
   "metadata": {},
   "source": [
    "## File Operation - Read and Write Files"
   ]
  },
  {
   "cell_type": "markdown",
   "id": "9f31bc7b",
   "metadata": {},
   "source": [
    "File Handling is a crucial part of any programming language. python provides build in functions and methods to read from and write to files, both text and binary . "
   ]
  },
  {
   "cell_type": "code",
   "execution_count": 8,
   "id": "1481e832",
   "metadata": {},
   "outputs": [
    {
     "name": "stdout",
     "output_type": "stream",
     "text": [
      "Hello Good Morning ,\n",
      " How Are You\n"
     ]
    }
   ],
   "source": [
    "### Read a whole file \n",
    "\n",
    "with open('example.txt','r') as file:\n",
    "    content = file.read()\n",
    "    print(content)"
   ]
  },
  {
   "cell_type": "code",
   "execution_count": null,
   "id": "f27e94fc",
   "metadata": {},
   "outputs": [
    {
     "name": "stdout",
     "output_type": "stream",
     "text": [
      "Hello Good Morning ,\n",
      "How Are You\n"
     ]
    }
   ],
   "source": [
    "## Read a file line by line\n",
    "\n",
    "with open('Example.txt','r') as file:\n",
    "    for line in file:\n",
    "        print(line.strip())"
   ]
  },
  {
   "cell_type": "code",
   "execution_count": 11,
   "id": "cae25c4a",
   "metadata": {},
   "outputs": [],
   "source": [
    "## writing in a file\n",
    "with open('Example.txt','w') as file:\n",
    "    file.write('Hello World \\n')\n",
    "    file.write('this is a new line.')"
   ]
  },
  {
   "cell_type": "code",
   "execution_count": 14,
   "id": "99bdf821",
   "metadata": {},
   "outputs": [],
   "source": [
    "## Write a file without overwriting\n",
    "\n",
    "with open('example.txt','a') as file:\n",
    "    file.write(\"\\nThis is another line\")\n",
    "        "
   ]
  },
  {
   "cell_type": "code",
   "execution_count": 16,
   "id": "4f1a2205",
   "metadata": {},
   "outputs": [],
   "source": [
    "### writing a list of line for this\n",
    "\n",
    "lines=['\\nFirst line \\n','Second line\\n','Third Line\\n']\n",
    "with open('example.txt','a') as file:\n",
    "    file.writelines(lines)"
   ]
  },
  {
   "cell_type": "code",
   "execution_count": 17,
   "id": "5c687b9d",
   "metadata": {},
   "outputs": [],
   "source": [
    "### Binary files\n",
    "## Writing to a binary file\n",
    "data = b'\\x00\\x01\\x02\\x03\\x04'\n",
    "with open('example.bin','wb') as file:\n",
    "    file.write(data)"
   ]
  },
  {
   "cell_type": "code",
   "execution_count": 18,
   "id": "be1dbd78",
   "metadata": {},
   "outputs": [
    {
     "name": "stdout",
     "output_type": "stream",
     "text": [
      "b'\\x00\\x01\\x03\\x04\\x02'\n"
     ]
    }
   ],
   "source": [
    "## Reading to a binary file\n",
    "\n",
    "with open('example.bin','rb') as file:\n",
    "    content = file.read()\n",
    "    print(content)"
   ]
  },
  {
   "cell_type": "code",
   "execution_count": 19,
   "id": "dff38f11",
   "metadata": {},
   "outputs": [],
   "source": [
    "## Copying a text file\n",
    "\n",
    "with open('example.txt','r') as source_file:\n",
    "    content = source_file.read()\n",
    "\n",
    "with open('destination.txt','w') as destination_file:\n",
    "    destination_file.write(content);"
   ]
  },
  {
   "cell_type": "code",
   "execution_count": 20,
   "id": "aabc388d",
   "metadata": {},
   "outputs": [
    {
     "name": "stdout",
     "output_type": "stream",
     "text": [
      "lines:12,words:25,Characters: 144\n"
     ]
    }
   ],
   "source": [
    "## Read a text file and count the number of lines , words , and characters.\n",
    "## Couting Lines , words,and charcters in a text file\n",
    "\n",
    "def count_text_file(file_path):\n",
    "    with open(file_path,'r') as file:\n",
    "        lines = file.readlines() \n",
    "        line_count=len(line)\n",
    "        word_count = sum(len(line.split()) for line in lines)\n",
    "        char_count = sum(len(line) for line in lines)\n",
    "        return line_count,word_count,char_count\n",
    "    \n",
    "file_path = 'example.txt'\n",
    "lines, words, characters = count_text_file(file_path)\n",
    "print(f'lines:{lines},words:{words},Characters: {characters}')"
   ]
  },
  {
   "cell_type": "code",
   "execution_count": 5,
   "id": "f6fe3b75",
   "metadata": {},
   "outputs": [
    {
     "name": "stdout",
     "output_type": "stream",
     "text": [
      "Hello World\n",
      "My name is kanhaiya kumar\n"
     ]
    }
   ],
   "source": [
    "### Writing and then reading\n",
    "\n",
    "with open('example.txt','w+') as file:\n",
    "    file.write(\"Hello World\\n\")\n",
    "    file.write('My name is kanhaiya kumar')\n",
    "\n",
    "\n",
    "    ## Move thee cursor to the begining\n",
    "\n",
    "    file.seek(0)\n",
    "\n",
    "    # Read the content of the filee\n",
    "    content=file.read()\n",
    "    print(content)"
   ]
  }
 ],
 "metadata": {
  "kernelspec": {
   "display_name": "Python 3",
   "language": "python",
   "name": "python3"
  },
  "language_info": {
   "codemirror_mode": {
    "name": "ipython",
    "version": 3
   },
   "file_extension": ".py",
   "mimetype": "text/x-python",
   "name": "python",
   "nbconvert_exporter": "python",
   "pygments_lexer": "ipython3",
   "version": "3.10.0"
  }
 },
 "nbformat": 4,
 "nbformat_minor": 5
}
