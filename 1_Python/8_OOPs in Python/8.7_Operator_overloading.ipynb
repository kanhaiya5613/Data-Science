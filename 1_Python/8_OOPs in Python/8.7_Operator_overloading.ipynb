{
 "cells": [
  {
   "cell_type": "markdown",
   "id": "5670d131",
   "metadata": {},
   "source": [
    "## OPerator overloading"
   ]
  },
  {
   "cell_type": "code",
   "execution_count": 2,
   "id": "e2e25d4a",
   "metadata": {},
   "outputs": [
    {
     "data": {
      "text/plain": [
       "'\\n1. __add__(self,other): Adds two object using the + operator\\n2. __sub__(self,other): Subtracts two objects using the + operator\\n3. __mul__\\n4. __truediv__\\n5. __eq__\\n6. __it__\\n7. __gt__\\n'"
      ]
     },
     "execution_count": 2,
     "metadata": {},
     "output_type": "execute_result"
    }
   ],
   "source": [
    "### Common Operator Overloading magic methods\n",
    "'''\n",
    "1. __add__(self,other): Adds two object using the + operator\n",
    "2. __sub__(self,other): Subtracts two objects using the + operator\n",
    "3. __mul__\n",
    "4. __truediv__\n",
    "5. __eq__\n",
    "6. __it__\n",
    "7. __gt__\n",
    "'''"
   ]
  },
  {
   "cell_type": "code",
   "execution_count": 8,
   "id": "d08e7d98",
   "metadata": {},
   "outputs": [
    {
     "name": "stdout",
     "output_type": "stream",
     "text": [
      "Vector(6,8)\n",
      "Vector(-2,-2)\n",
      "Vector(6,9)\n",
      "(False, False)\n"
     ]
    }
   ],
   "source": [
    "## Mathematical operation for vector\n",
    "class Vector:\n",
    "    def __init__(self,x,y):\n",
    "        self.x=x\n",
    "        self.y=y\n",
    "    \n",
    "    def __add__(self,other):\n",
    "        return Vector(self.x + other.x,self.y+other.y)\n",
    "    def __sub__(self,other):\n",
    "        return Vector(self.x - other.x,self.y-other.y)\n",
    "    def __mul__(self,other):\n",
    "        return Vector(self.x * other,self.y*other)\n",
    "    def __eq__(self, other):\n",
    "        return self.x == other.x, self.y==other.y\n",
    "    def __repr__(self):\n",
    "        return f\"Vector({self.x},{self.y})\"\n",
    "\n",
    "## Create objects for the vector class\n",
    "v1 = Vector(2,3)\n",
    "v2= Vector(4,5)\n",
    "\n",
    "print(v1+v2)\n",
    "print(v1-v2)\n",
    "print(v1*3)\n",
    "print(v1==v2)"
   ]
  }
 ],
 "metadata": {
  "kernelspec": {
   "display_name": "Python 3",
   "language": "python",
   "name": "python3"
  },
  "language_info": {
   "codemirror_mode": {
    "name": "ipython",
    "version": 3
   },
   "file_extension": ".py",
   "mimetype": "text/x-python",
   "name": "python",
   "nbconvert_exporter": "python",
   "pygments_lexer": "ipython3",
   "version": "3.10.0"
  }
 },
 "nbformat": 4,
 "nbformat_minor": 5
}
