{
 "cells": [
  {
   "cell_type": "markdown",
   "id": "caf9e41d",
   "metadata": {},
   "source": [
    "## Inheritance in Python"
   ]
  },
  {
   "cell_type": "markdown",
   "id": "70b31bb1",
   "metadata": {},
   "source": [
    "inheritance is a fundamental concept in object oriented programming(oop) that allows a class to inherit attributes and methods from another class."
   ]
  },
  {
   "cell_type": "code",
   "execution_count": null,
   "id": "89acbd5a",
   "metadata": {},
   "outputs": [],
   "source": [
    "## Inheritance (single inheritance)\n",
    " ## parent class\n",
    "class Car:\n",
    "    def __init__(self,windows,doors,enginetype):\n",
    "        self.windows=windows\n",
    "        self.doors=doors\n",
    "        self.enginetype=enginetype\n",
    "    def drive(self):\n",
    "        print(f\"The person will drive the {self.enginetype} Car\")\n",
    "        "
   ]
  },
  {
   "cell_type": "code",
   "execution_count": 2,
   "id": "ee8f5793",
   "metadata": {},
   "outputs": [
    {
     "name": "stdout",
     "output_type": "stream",
     "text": [
      "The person will drive the petrol Car Car\n"
     ]
    }
   ],
   "source": [
    "tata = Car(4,5,\"petrol Car\")\n",
    "tata.drive()\n"
   ]
  },
  {
   "cell_type": "code",
   "execution_count": 7,
   "id": "04286643",
   "metadata": {},
   "outputs": [],
   "source": [
    "class Tesla(Car):\n",
    "    def __init__(self,windows,doors,enginetype,is_selfdriving):\n",
    "        super().__init__(windows,doors,enginetype)\n",
    "        self.is_selfdriving=is_selfdriving\n",
    "\n",
    "    def selfdriving(self):\n",
    "        print(f\"tesla support self driving : {self.is_selfdriving}\")"
   ]
  },
  {
   "cell_type": "code",
   "execution_count": 8,
   "id": "a5514a49",
   "metadata": {},
   "outputs": [
    {
     "name": "stdout",
     "output_type": "stream",
     "text": [
      "tesla support self driving : True\n"
     ]
    }
   ],
   "source": [
    "tesla1 = Tesla(4,5,\"electric\",True)\n",
    "tesla1.selfdriving()"
   ]
  },
  {
   "cell_type": "code",
   "execution_count": 12,
   "id": "5759ebc3",
   "metadata": {},
   "outputs": [
    {
     "name": "stdout",
     "output_type": "stream",
     "text": [
      "Buddy says woof\n",
      "owner:kanhaiya\n"
     ]
    }
   ],
   "source": [
    "## Multiple inheritance\n",
    "\n",
    "## When a class inherited from more than one base class\n",
    "class Animal:\n",
    "    def __init__(self,name):\n",
    "        self.name=name\n",
    "    def speak(self):\n",
    "        print(\"subclass must implement this method\")\n",
    "# BASE class 2\n",
    "class pet:\n",
    "    def __init__(self,owner):\n",
    "        self.owner=owner\n",
    "\n",
    "# Derived class\n",
    "class Dog(Animal,pet):\n",
    "    def __init__(self,name,owner):\n",
    "        Animal.__init__(self,name)\n",
    "        pet.__init__(self,owner)\n",
    "    \n",
    "    def speak(self):\n",
    "        return f\"{self.name} says woof\"\n",
    "\n",
    "## create an object\n",
    "dog=Dog(\"Buddy\",\"kanhaiya\")\n",
    "print(dog.speak())\n",
    "print(f\"owner:{dog.owner}\")"
   ]
  }
 ],
 "metadata": {
  "kernelspec": {
   "display_name": "Python 3",
   "language": "python",
   "name": "python3"
  },
  "language_info": {
   "codemirror_mode": {
    "name": "ipython",
    "version": 3
   },
   "file_extension": ".py",
   "mimetype": "text/x-python",
   "name": "python",
   "nbconvert_exporter": "python",
   "pygments_lexer": "ipython3",
   "version": "3.10.0"
  }
 },
 "nbformat": 4,
 "nbformat_minor": 5
}
