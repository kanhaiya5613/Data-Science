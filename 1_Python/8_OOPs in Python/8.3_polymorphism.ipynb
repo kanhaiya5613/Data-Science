{
 "cells": [
  {
   "cell_type": "markdown",
   "id": "16aa7e95",
   "metadata": {},
   "source": [
    "## polymorphism"
   ]
  },
  {
   "cell_type": "markdown",
   "id": "46fefaeb",
   "metadata": {},
   "source": [
    "> polymorphism is a core concept in oops that allows object of different classes to be treated as object of a common superclass. it provides a way to perform a single action in different forms. polymorphism is typically achieved through method overriding and interfaces."
   ]
  },
  {
   "cell_type": "markdown",
   "id": "90a7ca46",
   "metadata": {},
   "source": [
    "## Method overriding\n",
    "it allow a child class to provide a specific implementation of a method that is already defined in parent class ."
   ]
  },
  {
   "cell_type": "code",
   "execution_count": 2,
   "id": "7b9b3cab",
   "metadata": {},
   "outputs": [
    {
     "name": "stdout",
     "output_type": "stream",
     "text": [
      "Woof!\n",
      "Meow!\n",
      "Woof!\n"
     ]
    }
   ],
   "source": [
    "## Base class\n",
    "\n",
    "class Animal:\n",
    "    def speak(self):\n",
    "        return \"Sound of the animal\"\n",
    "\n",
    "## Derived Class\n",
    "class Dog(Animal):\n",
    "    def speak(self):\n",
    "        return \"Woof!\"\n",
    "\n",
    "## 2nd  Derived class\n",
    "class Cat(Animal):\n",
    "    def speak(self):\n",
    "        return \"Meow!\"\n",
    "## Function that determine polymorphism\n",
    "def animal_speak(animal):\n",
    "    print(animal.speak())\n",
    "\n",
    "dog = Dog()\n",
    "cat = Cat()\n",
    "print(dog.speak())\n",
    "print(cat.speak())\n",
    "animal_speak(dog)"
   ]
  },
  {
   "cell_type": "code",
   "execution_count": 7,
   "id": "8f5c72e4",
   "metadata": {},
   "outputs": [
    {
     "name": "stdout",
     "output_type": "stream",
     "text": [
      "the area is  20\n",
      "the area is  28.259999999999998\n"
     ]
    }
   ],
   "source": [
    "## polymorphism with functions and methods\n",
    "## base class\n",
    "class shape:\n",
    "    def area(self):\n",
    "        return \"The area of the figure\"\n",
    "\n",
    "## Derived class 1\n",
    "class Rectangle(shape):\n",
    "    def __init__(self,width,height):\n",
    "        self.width = width\n",
    "        self.height = height\n",
    "\n",
    "    def area(self):\n",
    "        return self.width * self.height\n",
    "\n",
    "## Derived Class 2\n",
    "class Circle(shape):\n",
    "    def __init__(self,radius):\n",
    "        self.radius=radius\n",
    "\n",
    "    def  area(self):\n",
    "        return 3.14*self.radius * self.radius\n",
    "\n",
    "## function that demonstrate polymorphism\n",
    "def print_area(shape):\n",
    "    print(f\"the area is  {shape.area()}\")\n",
    "\n",
    "rectangle = Rectangle(4,5)\n",
    "circle=Circle(3)\n",
    "\n",
    "print_area(rectangle)\n",
    "print_area(circle)"
   ]
  },
  {
   "cell_type": "markdown",
   "id": "1812e1c6",
   "metadata": {},
   "source": [
    "## Polymorphism with abstract Base Classes\n",
    "Abstract base classes are used to define common methods for a group releted objects. They can enorce that derived classes implement particular methods, promoting consistency across different implementations."
   ]
  },
  {
   "cell_type": "code",
   "execution_count": 14,
   "id": "66152e9d",
   "metadata": {},
   "outputs": [
    {
     "name": "stdout",
     "output_type": "stream",
     "text": [
      "Car engine started\n",
      "Motorcycle engine started\n"
     ]
    }
   ],
   "source": [
    "from abc import ABC, abstractmethod\n",
    "\n",
    "# Define an abstract class\n",
    "class Vehicle(ABC):\n",
    "    @abstractmethod\n",
    "    def start_engine(self):\n",
    "        pass\n",
    "\n",
    "# Derived class 1\n",
    "class Car(Vehicle):\n",
    "    def start_engine(self):\n",
    "        return \"Car engine started\"\n",
    "\n",
    "# Derived class 2\n",
    "class Motorcycle(Vehicle):\n",
    "    def start_engine(self):\n",
    "        return \"Motorcycle engine started\"\n",
    "\n",
    "# Function to start a vehicle\n",
    "def start_vehicle(vehicle: Vehicle):\n",
    "    print(vehicle.start_engine())\n",
    "\n",
    "# Create objects\n",
    "car = Car()\n",
    "motorcycle = Motorcycle()\n",
    "\n",
    "# Test\n",
    "start_vehicle(car)         # Output: Car engine started\n",
    "start_vehicle(motorcycle)  # Output: Motorcycle engine started\n"
   ]
  }
 ],
 "metadata": {
  "kernelspec": {
   "display_name": "Python 3",
   "language": "python",
   "name": "python3"
  },
  "language_info": {
   "codemirror_mode": {
    "name": "ipython",
    "version": 3
   },
   "file_extension": ".py",
   "mimetype": "text/x-python",
   "name": "python",
   "nbconvert_exporter": "python",
   "pygments_lexer": "ipython3",
   "version": "3.10.0"
  }
 },
 "nbformat": 4,
 "nbformat_minor": 5
}
