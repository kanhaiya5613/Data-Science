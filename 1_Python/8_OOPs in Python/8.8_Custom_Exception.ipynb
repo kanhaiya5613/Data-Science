{
 "cells": [
  {
   "cell_type": "markdown",
   "id": "4bbf2945",
   "metadata": {},
   "source": [
    "## Custom exception (Raise and Throw an exception)"
   ]
  },
  {
   "cell_type": "code",
   "execution_count": 5,
   "id": "a95bbf05",
   "metadata": {},
   "outputs": [],
   "source": [
    "class Error(Exception):\n",
    "    pass\n",
    "\n",
    "class dobException(Error):\n",
    "    pass\n",
    "\n"
   ]
  },
  {
   "cell_type": "code",
   "execution_count": 7,
   "id": "801f2bc0",
   "metadata": {},
   "outputs": [
    {
     "name": "stdout",
     "output_type": "stream",
     "text": [
      "sorry, your age should be greater then 20 or less than 30\n"
     ]
    }
   ],
   "source": [
    "year = int(input(\"Enter the DOB\"))\n",
    "age = 2024-year\n",
    "\n",
    "try:\n",
    "    if age<=30 and age >= 20:\n",
    "        print(\"The age is valid so you can apply for the exam\")\n",
    "    else:\n",
    "        raise dobException\n",
    "except dobException:\n",
    "    print(\"sorry, your age should be greater then 20 or less than 30\")"
   ]
  },
  {
   "cell_type": "code",
   "execution_count": null,
   "id": "89d68f05",
   "metadata": {},
   "outputs": [],
   "source": []
  },
  {
   "cell_type": "code",
   "execution_count": null,
   "id": "de2ab8ff",
   "metadata": {},
   "outputs": [],
   "source": []
  },
  {
   "cell_type": "code",
   "execution_count": null,
   "id": "ffad6ada",
   "metadata": {},
   "outputs": [],
   "source": []
  }
 ],
 "metadata": {
  "kernelspec": {
   "display_name": "Python 3",
   "language": "python",
   "name": "python3"
  },
  "language_info": {
   "codemirror_mode": {
    "name": "ipython",
    "version": 3
   },
   "file_extension": ".py",
   "mimetype": "text/x-python",
   "name": "python",
   "nbconvert_exporter": "python",
   "pygments_lexer": "ipython3",
   "version": "3.10.0"
  }
 },
 "nbformat": 4,
 "nbformat_minor": 5
}
