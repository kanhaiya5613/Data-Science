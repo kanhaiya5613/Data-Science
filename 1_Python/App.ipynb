{
 "cells": [
  {
   "cell_type": "raw",
   "id": "46a0600b51c5eb4d",
   "metadata": {},
   "source": [
    "1+1"
   ]
  },
  {
   "cell_type": "code",
   "execution_count": 1,
   "id": "4b17d01a4f462ca0",
   "metadata": {
    "ExecuteTime": {
     "end_time": "2025-09-11T17:25:21.190270Z",
     "start_time": "2025-09-11T17:25:21.162304Z"
    }
   },
   "outputs": [
    {
     "name": "stdout",
     "output_type": "stream",
     "text": [
      "hello Kanhaiya\n"
     ]
    }
   ],
   "source": [
    "print(\"hello Kanhaiya\")"
   ]
  },
  {
   "cell_type": "code",
   "execution_count": 2,
   "id": "2bc4fb5e",
   "metadata": {},
   "outputs": [
    {
     "data": {
      "text/plain": [
       "'\\nThis is a multiline \\ncomment \\n'"
      ]
     },
     "execution_count": 2,
     "metadata": {},
     "output_type": "execute_result"
    }
   ],
   "source": [
    "'''\n",
    "This is a multiline \n",
    "comment \n",
    "'''"
   ]
  },
  {
   "cell_type": "code",
   "execution_count": 3,
   "id": "2b2d43a7",
   "metadata": {},
   "outputs": [],
   "source": [
    "## This is a single line comment "
   ]
  },
  {
   "cell_type": "markdown",
   "id": "54ee66d7",
   "metadata": {},
   "source": [
    "# Indentation:- (:)- Indentation in python is define the structure and hirarchy of the code. Unlike many other programming languages that use braces {} to define block of codes\n",
    "#  eg :- age=30\n",
    "#     if(age>25):\n",
    "#          print(age);\n"
   ]
  },
  {
   "cell_type": "markdown",
   "id": "9078954e",
   "metadata": {},
   "source": [
    "# line Continuation\n",
    "## use a backslash (\\) to continue a statement to the next line\n",
    "\n",
    "eg:- total = 1+2+3+4+5+6+7+\\\n",
    "         4+5+6"
   ]
  },
  {
   "cell_type": "markdown",
   "id": "707922b7",
   "metadata": {},
   "source": [
    "## Multiple statement in a single line\n",
    "x=5;y=9;z=x+y;\n",
    "print(z);"
   ]
  },
  {
   "cell_type": "code",
   "execution_count": 4,
   "id": "9fca340a",
   "metadata": {},
   "outputs": [],
   "source": [
    "## understand semantics in python \n",
    "age = 20\n",
    "name = \"kanhaiya\""
   ]
  },
  {
   "cell_type": "code",
   "execution_count": 5,
   "id": "fd035787",
   "metadata": {},
   "outputs": [
    {
     "data": {
      "text/plain": [
       "int"
      ]
     },
     "execution_count": 5,
     "metadata": {},
     "output_type": "execute_result"
    }
   ],
   "source": [
    "## Type Inference\n",
    "type(age)"
   ]
  },
  {
   "cell_type": "code",
   "execution_count": 7,
   "id": "9c5baf6f",
   "metadata": {},
   "outputs": [],
   "source": [
    "## name error \n",
    "## a=b"
   ]
  },
  {
   "cell_type": "code",
   "execution_count": 9,
   "id": "25c046b4",
   "metadata": {},
   "outputs": [
    {
     "name": "stdout",
     "output_type": "stream",
     "text": [
      "Correct Indentation\n",
      "outside if block\n"
     ]
    }
   ],
   "source": [
    "## Code Example of indentation\n",
    "if  True:\n",
    "    print(\"Correct Indentation\")    \n",
    "    if False:\n",
    "        print(\"This not print\")\n",
    "print(\"outside if block\")"
   ]
  },
  {
   "cell_type": "code",
   "execution_count": null,
   "id": "6a7c9eca",
   "metadata": {},
   "outputs": [],
   "source": []
  }
 ],
 "metadata": {
  "kernelspec": {
   "display_name": "Python 3",
   "language": "python",
   "name": "python3"
  },
  "language_info": {
   "codemirror_mode": {
    "name": "ipython",
    "version": 3
   },
   "file_extension": ".py",
   "mimetype": "text/x-python",
   "name": "python",
   "nbconvert_exporter": "python",
   "pygments_lexer": "ipython3",
   "version": "3.10.0"
  }
 },
 "nbformat": 4,
 "nbformat_minor": 5
}
