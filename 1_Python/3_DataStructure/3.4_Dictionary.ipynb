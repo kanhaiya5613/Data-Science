{
 "cells": [
  {
   "cell_type": "markdown",
   "id": "912bfaaf",
   "metadata": {},
   "source": [
    "### Dictionary "
   ]
  },
  {
   "cell_type": "markdown",
   "id": "a568d64d",
   "metadata": {},
   "source": [
    "Dictionaries are unordered collection of Items. They store data in key-value pairs. Keys must be unique and immutable(e.g., String,numbers, or tuples),while values can be of any type ."
   ]
  },
  {
   "cell_type": "code",
   "execution_count": 1,
   "id": "791a1cb5",
   "metadata": {},
   "outputs": [
    {
     "name": "stdout",
     "output_type": "stream",
     "text": [
      "<class 'dict'>\n"
     ]
    }
   ],
   "source": [
    "## Creating a dictionaries\n",
    "\n",
    "empty_dict={}\n",
    "print(type(empty_dict))"
   ]
  },
  {
   "cell_type": "code",
   "execution_count": 2,
   "id": "c1a4a73c",
   "metadata": {},
   "outputs": [
    {
     "data": {
      "text/plain": [
       "{}"
      ]
     },
     "execution_count": 2,
     "metadata": {},
     "output_type": "execute_result"
    }
   ],
   "source": [
    "empty_dict=dict()\n",
    "empty_dict"
   ]
  },
  {
   "cell_type": "code",
   "execution_count": 5,
   "id": "206001d5",
   "metadata": {},
   "outputs": [
    {
     "name": "stdout",
     "output_type": "stream",
     "text": [
      "{'name': 'Kanhaiya', 'age': 20, 'grade': 'A+'}\n",
      "<class 'dict'>\n"
     ]
    }
   ],
   "source": [
    "student={\"name\": \"Kanhaiya\",\"age\":20,\"grade\":\"A+\"}\n",
    "print(student)\n",
    "print(type(student))"
   ]
  },
  {
   "cell_type": "code",
   "execution_count": 6,
   "id": "41cd7d63",
   "metadata": {},
   "outputs": [
    {
     "name": "stdout",
     "output_type": "stream",
     "text": [
      "{'name': 'Kanhaiya', 'age': 20, 'grade': 'A++'}\n"
     ]
    }
   ],
   "source": [
    "## Error\n",
    "student={\"name\": \"Kanhaiya\",\"age\":20,\"grade\":\"A+\",\"grade\":\"A++\"}\n",
    "print(student)"
   ]
  },
  {
   "cell_type": "code",
   "execution_count": 3,
   "id": "cc2bf79c",
   "metadata": {},
   "outputs": [
    {
     "name": "stdout",
     "output_type": "stream",
     "text": [
      "{'name': 'Kanhaiya', 'age': 20, 'grade': 'A+'}\n"
     ]
    }
   ],
   "source": [
    "## Accessing Dictionary Element\n",
    "student={\"name\": \"Kanhaiya\",\"age\":20,\"grade\":\"A+\"}\n",
    "print(student)\n"
   ]
  },
  {
   "cell_type": "code",
   "execution_count": 4,
   "id": "87ee7a66",
   "metadata": {},
   "outputs": [
    {
     "name": "stdout",
     "output_type": "stream",
     "text": [
      "A+\n",
      "20\n",
      "Kanhaiya\n",
      "A+\n",
      "None\n",
      "Not Available\n"
     ]
    }
   ],
   "source": [
    "print(student['grade'])\n",
    "print(student['age'])\n",
    "print(student[\"name\"])\n",
    "\n",
    "## Accessing Using get() method\n",
    "print(student.get('grade'))\n",
    "print(student.get('last_name'))\n",
    "print(student.get('last_name',\"Not Available\"))"
   ]
  },
  {
   "cell_type": "code",
   "execution_count": 5,
   "id": "48b12be6",
   "metadata": {},
   "outputs": [
    {
     "name": "stdout",
     "output_type": "stream",
     "text": [
      "{'name': 'Kanhaiya', 'age': 20, 'grade': 'A+'}\n"
     ]
    }
   ],
   "source": [
    "### Modifying Dictionary Elements\n",
    "## Dictionaru are mutable,so you can add, update or delete elements\n",
    "print(student)"
   ]
  },
  {
   "cell_type": "code",
   "execution_count": 6,
   "id": "7d692a45",
   "metadata": {},
   "outputs": [
    {
     "name": "stdout",
     "output_type": "stream",
     "text": [
      "{'name': 'Kanhaiya', 'age': 21, 'grade': 'A+', 'address': 'Begusarai,Bihar,India'}\n"
     ]
    }
   ],
   "source": [
    "student[\"age\"]=21  ## Update value\n",
    "student[\"address\"]=\"Begusarai,Bihar,India\"  ## Added new key and value\n",
    "print(student)"
   ]
  },
  {
   "cell_type": "code",
   "execution_count": 7,
   "id": "f980ce53",
   "metadata": {},
   "outputs": [
    {
     "name": "stdout",
     "output_type": "stream",
     "text": [
      "{'name': 'Kanhaiya', 'age': 21, 'address': 'Begusarai,Bihar,India'}\n"
     ]
    }
   ],
   "source": [
    "del student['grade'] ## Delete key and value pair\n",
    "\n",
    "print(student)"
   ]
  },
  {
   "cell_type": "markdown",
   "id": "6b6d24df",
   "metadata": {},
   "source": [
    "### Dictionary Methods"
   ]
  },
  {
   "cell_type": "code",
   "execution_count": 10,
   "id": "ce2c94e3",
   "metadata": {},
   "outputs": [
    {
     "name": "stdout",
     "output_type": "stream",
     "text": [
      "dict_keys(['name', 'age', 'address'])\n",
      "dict_values(['Kanhaiya', 21, 'Begusarai,Bihar,India'])\n",
      "dict_items([('name', 'Kanhaiya'), ('age', 21), ('address', 'Begusarai,Bihar,India')])\n"
     ]
    }
   ],
   "source": [
    "keys=student.keys() ## get all the keys\n",
    "print(keys)\n",
    "values=student.values()  ## Get all values\n",
    "print(values)\n",
    "\n",
    "items=student.items() ## Get all key value pairs\n",
    "print(items)\n",
    "\n"
   ]
  },
  {
   "cell_type": "markdown",
   "id": "bd82706e",
   "metadata": {},
   "source": [
    "### Deep and Shallow copy"
   ]
  },
  {
   "cell_type": "code",
   "execution_count": null,
   "id": "a3e93721",
   "metadata": {},
   "outputs": [
    {
     "name": "stdout",
     "output_type": "stream",
     "text": [
      "{'name': 'Kanhaiya', 'age': 21, 'address': 'Begusarai,Bihar,India'}\n",
      "{'name': 'Kanhaiya', 'age': 21, 'address': 'Begusarai,Bihar,India'}\n"
     ]
    }
   ],
   "source": [
    "\n",
    "\n",
    "student_copy=student\n",
    "print(student)\n",
    "print(student_copy)\n"
   ]
  },
  {
   "cell_type": "code",
   "execution_count": 12,
   "id": "0fe469ba",
   "metadata": {},
   "outputs": [
    {
     "name": "stdout",
     "output_type": "stream",
     "text": [
      "{'name': 'kanhaiya kumar', 'age': 21, 'address': 'Begusarai,Bihar,India'}\n",
      "{'name': 'kanhaiya kumar', 'age': 21, 'address': 'Begusarai,Bihar,India'}\n"
     ]
    }
   ],
   "source": [
    "student[\"name\"]=\"kanhaiya kumar\"\n",
    "print(student)\n",
    "print(student_copy)"
   ]
  },
  {
   "cell_type": "code",
   "execution_count": 13,
   "id": "185ab0fb",
   "metadata": {},
   "outputs": [
    {
     "name": "stdout",
     "output_type": "stream",
     "text": [
      "{'name': 'kanhaiya kumar', 'age': 21, 'address': 'Begusarai,Bihar,India'}\n",
      "{'name': 'kanhaiya kumar', 'age': 21, 'address': 'Begusarai,Bihar,India'}\n",
      "{'name': 'kanhaiya kumar', 'age': 21, 'address': 'Begusarai,Bihar,India'}\n"
     ]
    }
   ],
   "source": [
    "student_copy1=student.copy()\n",
    "print(student)\n",
    "print(student_copy)\n",
    "print(student_copy1)"
   ]
  },
  {
   "cell_type": "code",
   "execution_count": 14,
   "id": "b9b9e3b1",
   "metadata": {},
   "outputs": [
    {
     "name": "stdout",
     "output_type": "stream",
     "text": [
      "{'name': 'kanhaiya kumar singh', 'age': 21, 'address': 'Begusarai,Bihar,India'}\n",
      "{'name': 'kanhaiya kumar singh', 'age': 21, 'address': 'Begusarai,Bihar,India'}\n",
      "{'name': 'kanhaiya kumar', 'age': 21, 'address': 'Begusarai,Bihar,India'}\n"
     ]
    }
   ],
   "source": [
    "student[\"name\"]=\"kanhaiya kumar singh\"\n",
    "print(student)\n",
    "print(student_copy)\n",
    "print(student_copy1)"
   ]
  },
  {
   "cell_type": "code",
   "execution_count": 15,
   "id": "d2b95ede",
   "metadata": {},
   "outputs": [
    {
     "name": "stdout",
     "output_type": "stream",
     "text": [
      "name\n",
      "age\n",
      "address\n"
     ]
    }
   ],
   "source": [
    "### Iterating over Dictionaries\n",
    "## You can use loops to iterate over dictionaries, keys,vakues,or items\n",
    "\n",
    "## Iterating over keys\n",
    "\n",
    "for keys in student.keys():\n",
    "    print(keys)"
   ]
  },
  {
   "cell_type": "code",
   "execution_count": 16,
   "id": "01c753a8",
   "metadata": {},
   "outputs": [
    {
     "name": "stdout",
     "output_type": "stream",
     "text": [
      "kanhaiya kumar singh\n",
      "21\n",
      "Begusarai,Bihar,India\n"
     ]
    }
   ],
   "source": [
    "## Iterate over values\n",
    "for values in student.values():\n",
    "    print(values)"
   ]
  },
  {
   "cell_type": "code",
   "execution_count": 17,
   "id": "48c79c5e",
   "metadata": {},
   "outputs": [
    {
     "name": "stdout",
     "output_type": "stream",
     "text": [
      "name:kanhaiya kumar singh\n",
      "age:21\n",
      "address:Begusarai,Bihar,India\n"
     ]
    }
   ],
   "source": [
    "### Iterate over value pairs\n",
    "for key,value in student.items():\n",
    "    print(f\"{key}:{value}\")\n"
   ]
  },
  {
   "cell_type": "code",
   "execution_count": 18,
   "id": "5aaca112",
   "metadata": {},
   "outputs": [
    {
     "name": "stdout",
     "output_type": "stream",
     "text": [
      "{'Student1': {'name': 'Nandan', 'age': 32}, 'Student2': {'name': 'peter', 'age': 42}}\n"
     ]
    }
   ],
   "source": [
    "## Nested Distionaries\n",
    "students={\n",
    "    \"Student1\":{ \"name\":\"Nandan\",\"age\":32},\n",
    "    \"Student2\":{\"name\":\"peter\",\"age\":42}\n",
    "    \n",
    "}\n",
    "print(students)"
   ]
  },
  {
   "cell_type": "code",
   "execution_count": 22,
   "id": "55343ae8",
   "metadata": {},
   "outputs": [
    {
     "name": "stdout",
     "output_type": "stream",
     "text": [
      "Nandan\n",
      "42\n"
     ]
    }
   ],
   "source": [
    "## Accessing nested Dictionaries element\n",
    "print(students[\"Student1\"][\"name\"])\n",
    "print(students[\"Student2\"][\"age\"])"
   ]
  },
  {
   "cell_type": "code",
   "execution_count": 23,
   "id": "11cd6a30",
   "metadata": {},
   "outputs": [
    {
     "name": "stdout",
     "output_type": "stream",
     "text": [
      "Student1:{'name': 'Nandan', 'age': 32}\n",
      "name:Begusarai,Bihar,India\n",
      "age:Begusarai,Bihar,India\n",
      "Student2:{'name': 'peter', 'age': 42}\n",
      "name:Begusarai,Bihar,India\n",
      "age:Begusarai,Bihar,India\n"
     ]
    }
   ],
   "source": [
    "## Iterating over nested dictionaries\n",
    "for student_id,student_info in students.items():\n",
    "    print(f\"{student_id}:{student_info}\")\n",
    "    for key,values in student_info.items():\n",
    "        print(f\"{key}:{value}\")"
   ]
  },
  {
   "cell_type": "code",
   "execution_count": 25,
   "id": "27eea53b",
   "metadata": {},
   "outputs": [
    {
     "name": "stdout",
     "output_type": "stream",
     "text": [
      "{0: 0, 1: 1, 2: 4, 3: 9, 4: 16}\n"
     ]
    }
   ],
   "source": [
    "## Dictionary Comprehension\n",
    "squares={ x:x**2 for x in range(5)}\n",
    "print(squares)"
   ]
  },
  {
   "cell_type": "code",
   "execution_count": 26,
   "id": "0c1e7c9c",
   "metadata": {},
   "outputs": [
    {
     "name": "stdout",
     "output_type": "stream",
     "text": [
      "{0: 0, 2: 4, 4: 16, 6: 36, 8: 64}\n"
     ]
    }
   ],
   "source": [
    "##  Conditional Dictionary Comprehension\n",
    "evens = { x:x**2 for x in range(10) if x%2==0 }\n",
    "print(evens)"
   ]
  },
  {
   "cell_type": "code",
   "execution_count": 28,
   "id": "a5ede215",
   "metadata": {},
   "outputs": [
    {
     "name": "stdout",
     "output_type": "stream",
     "text": [
      "{1: 1, 2: 2, 3: 2, 4: 4}\n"
     ]
    }
   ],
   "source": [
    "## Practical Examples \n",
    "## Ise a dictionary to count he frequently of element in list\n",
    "\n",
    "numbers=[1,2,2,3,3,4,4,4,4]\n",
    "frequency={}\n",
    "for number in numbers:\n",
    "    if number in frequency:\n",
    "        frequency[number]+=1\n",
    "    else:\n",
    "        frequency[number]=1\n",
    "print(frequency)\n"
   ]
  },
  {
   "cell_type": "code",
   "execution_count": 30,
   "id": "4dca1636",
   "metadata": {},
   "outputs": [
    {
     "name": "stdout",
     "output_type": "stream",
     "text": [
      "{'a': 1, 'b': 3, 'c': 4}\n"
     ]
    }
   ],
   "source": [
    "## Merge two dictionary in one\n",
    "dict1={\"a\":1,\"b\":2}\n",
    "dict2={\"b\":3,\"c\":4}\n",
    "merge_dist={**dict1,**dict2}\n",
    "print(merge_dist)"
   ]
  }
 ],
 "metadata": {
  "kernelspec": {
   "display_name": "Python 3",
   "language": "python",
   "name": "python3"
  },
  "language_info": {
   "codemirror_mode": {
    "name": "ipython",
    "version": 3
   },
   "file_extension": ".py",
   "mimetype": "text/x-python",
   "name": "python",
   "nbconvert_exporter": "python",
   "pygments_lexer": "ipython3",
   "version": "3.10.0"
  }
 },
 "nbformat": 4,
 "nbformat_minor": 5
}
