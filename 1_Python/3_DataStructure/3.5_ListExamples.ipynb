{
 "cells": [
  {
   "cell_type": "markdown",
   "id": "30e5a2d8",
   "metadata": {},
   "source": [
    "### Example 1. Manage a To Do List"
   ]
  },
  {
   "cell_type": "markdown",
   "id": "33042859",
   "metadata": {},
   "source": [
    "> Create a To Do List To keep Track of Tasks"
   ]
  },
  {
   "cell_type": "code",
   "execution_count": 4,
   "id": "24f2092d",
   "metadata": {},
   "outputs": [
    {
     "name": "stdout",
     "output_type": "stream",
     "text": [
      "Don't forget to pay the utility bills\n",
      "To Do List remaining\n",
      "-Buy Groceries\n",
      "-Pay Bills\n",
      "-Schedule meeting\n",
      "-Go for Run\n"
     ]
    }
   ],
   "source": [
    "to_do_List=[\"Buy Groceries\",\"Clean The House\",\"Pay Bills\"]\n",
    "\n",
    "## Adding to Task\n",
    "to_do_List.append(\"Schedule meeting\")\n",
    "to_do_List.append(\"Go for Run\")\n",
    "\n",
    "## Removing a completed Task\n",
    "to_do_List.remove(\"Clean The House\")\n",
    "\n",
    "## Checking if a task is in the list\n",
    "\n",
    "if \"Pay Bills\" in to_do_List:\n",
    "    print(\"Don't forget to pay the utility bills\")\n",
    "\n",
    "print(\"To Do List remaining\")\n",
    "for task in to_do_List:\n",
    "    print(f\"-{task}\")"
   ]
  },
  {
   "cell_type": "markdown",
   "id": "23eb985a",
   "metadata": {},
   "source": [
    "### Example 2: Organizing Student Grades"
   ]
  },
  {
   "cell_type": "markdown",
   "id": "7237f684",
   "metadata": {},
   "source": [
    ". Create a List to store and calculate average grades for students"
   ]
  },
  {
   "cell_type": "code",
   "execution_count": 5,
   "id": "01a069ec",
   "metadata": {},
   "outputs": [
    {
     "name": "stdout",
     "output_type": "stream",
     "text": [
      "Average Grade: 88.00\n",
      "Highest Grade: 95\n",
      "Lowest Grade: 78\n"
     ]
    }
   ],
   "source": [
    "grades=[85,92,78,90,88]\n",
    "\n",
    "grades.append(95)\n",
    "\n",
    "average_grade= sum(grades) / len(grades)\n",
    "print(f\"Average Grade: {average_grade:.2f}\")\n",
    " \n",
    "highest_grade=max(grades)\n",
    "lowest_grade=min(grades)\n",
    "\n",
    "print(f\"Highest Grade: {highest_grade}\")\n",
    "print(f\"Lowest Grade: {lowest_grade}\")\n"
   ]
  },
  {
   "cell_type": "markdown",
   "id": "c6e0533c",
   "metadata": {},
   "source": [
    "## Example 3. Manage Inventory"
   ]
  },
  {
   "cell_type": "code",
   "execution_count": 7,
   "id": "0f307414",
   "metadata": {},
   "outputs": [
    {
     "name": "stdout",
     "output_type": "stream",
     "text": [
      "oranges are in the stock.\n",
      "inventory List:\n",
      "- apples\n",
      "- oranges\n",
      "- grapes\n",
      "- strawbarries\n"
     ]
    }
   ],
   "source": [
    "inventory = [\"apples\",\"Bananas\",\"oranges\",\"grapes\"]\n",
    "\n",
    "inventory.append(\"strawbarries\")\n",
    "\n",
    "inventory.remove(\"Bananas\")\n",
    "\n",
    "item=\"oranges\"\n",
    "if item in inventory:\n",
    "    print(f\"{item} are in the stock.\")\n",
    "else:\n",
    "    print(f\"{item} are out of the stock.\")\n",
    "\n",
    "print(\"inventory List:\")\n",
    "for item in inventory:\n",
    "    print(f\"- {item}\")"
   ]
  },
  {
   "cell_type": "markdown",
   "id": "ab757d70",
   "metadata": {},
   "source": [
    "### Collecting User Feedback"
   ]
  },
  {
   "cell_type": "markdown",
   "id": "8ccff8b0",
   "metadata": {},
   "source": [
    "> Use a List to Collect and Analyze User Feedback"
   ]
  },
  {
   "cell_type": "code",
   "execution_count": 8,
   "id": "36310402",
   "metadata": {},
   "outputs": [
    {
     "name": "stdout",
     "output_type": "stream",
     "text": [
      "Positive FeedBack Count: 2\n",
      "User Feedback:\n",
      "- Great Service\n",
      "- Very Satisfied\n",
      "- Could be Better\n",
      "- Excellent experience\n",
      "- Not Happy With the Service\n"
     ]
    }
   ],
   "source": [
    "feedback = [\"Great Service\",\"Very Satisfied\",\"Could be Better\",\"Excellent experience\"]\n",
    "\n",
    "feedback.append(\"Not Happy With the Service\")\n",
    "\n",
    "positive_feedback_count = sum(1 for comment in feedback if \"great\" in comment.lower() or \"excellent\" in comment.lower())\n",
    "print(f\"Positive FeedBack Count: {positive_feedback_count}\")\n",
    "\n",
    "print(\"User Feedback:\")\n",
    "for comment in feedback:\n",
    "    print(f\"- {comment}\")"
   ]
  }
 ],
 "metadata": {
  "kernelspec": {
   "display_name": "Python 3",
   "language": "python",
   "name": "python3"
  },
  "language_info": {
   "codemirror_mode": {
    "name": "ipython",
    "version": 3
   },
   "file_extension": ".py",
   "mimetype": "text/x-python",
   "name": "python",
   "nbconvert_exporter": "python",
   "pygments_lexer": "ipython3",
   "version": "3.10.0"
  }
 },
 "nbformat": 4,
 "nbformat_minor": 5
}
