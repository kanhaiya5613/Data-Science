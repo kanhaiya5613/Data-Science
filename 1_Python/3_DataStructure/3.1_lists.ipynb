{
 "cells": [
  {
   "cell_type": "markdown",
   "id": "070b7eb2",
   "metadata": {},
   "source": [
    "## Introduction To Lists\n",
    "Lists are ordered mutable collection of items.\n",
    "They can contain items of different data types"
   ]
  },
  {
   "cell_type": "markdown",
   "id": "c905374d",
   "metadata": {},
   "source": [
    "1. Introduction of Lists\n",
    "2. Creating Lists\n",
    "3. Accessing List element\n",
    "4. Modifying List Element\n",
    "5. List Method\n",
    "6. Slicing Lists\n",
    "7. Iterating Over Lists\n",
    "8. List Comprrehension\n",
    "9. Nested Lists\n",
    "10. Practical Example and common lists\n"
   ]
  },
  {
   "cell_type": "code",
   "execution_count": 1,
   "id": "f1692275",
   "metadata": {},
   "outputs": [
    {
     "name": "stdout",
     "output_type": "stream",
     "text": [
      "<class 'list'>\n"
     ]
    }
   ],
   "source": [
    "lst = []\n",
    "print(type(lst))"
   ]
  },
  {
   "cell_type": "code",
   "execution_count": 2,
   "id": "940232a2",
   "metadata": {},
   "outputs": [
    {
     "name": "stdout",
     "output_type": "stream",
     "text": [
      "['Kanhaiya', 'Jack', 'Jacob']\n"
     ]
    }
   ],
   "source": [
    "names = [\"Kanhaiya\",\"Jack\",\"Jacob\"]\n",
    "print(names)"
   ]
  },
  {
   "cell_type": "code",
   "execution_count": 3,
   "id": "1fd8587e",
   "metadata": {},
   "outputs": [
    {
     "name": "stdout",
     "output_type": "stream",
     "text": [
      "[1, 3.14, 'Kanhaiya', True]\n"
     ]
    }
   ],
   "source": [
    "mixedList = [1,3.14,\"Kanhaiya\",True]\n",
    "print(mixedList)"
   ]
  },
  {
   "cell_type": "code",
   "execution_count": 23,
   "id": "643043e3",
   "metadata": {},
   "outputs": [],
   "source": [
    "## Accessing List Element\n",
    "\n",
    "fruits=[\"apple\",\"guava\",\"cherry\",\"kiwi\",\"banana\"]\n"
   ]
  },
  {
   "cell_type": "code",
   "execution_count": 14,
   "id": "d5abd864",
   "metadata": {},
   "outputs": [
    {
     "name": "stdout",
     "output_type": "stream",
     "text": [
      "apple\n",
      "cherry\n",
      "banana\n"
     ]
    }
   ],
   "source": [
    "print(fruits[0])\n",
    "print(fruits[2])\n",
    "print(fruits[-1])\n"
   ]
  },
  {
   "cell_type": "code",
   "execution_count": 16,
   "id": "a6788867",
   "metadata": {},
   "outputs": [
    {
     "name": "stdout",
     "output_type": "stream",
     "text": [
      "['guava', 'cherry']\n",
      "['apple', 'guava', 'cherry']\n",
      "['apple', 'guava', 'cherry', 'kiwi', 'banana']\n",
      "['banana']\n",
      "['apple', 'guava', 'cherry', 'kiwi']\n"
     ]
    }
   ],
   "source": [
    "print(fruits[1:3])\n",
    "print(fruits[:3])\n",
    "print(fruits[0:])\n",
    "print(fruits[-1:])\n",
    "print(fruits[:-1])"
   ]
  },
  {
   "cell_type": "code",
   "execution_count": 24,
   "id": "6c9bf294",
   "metadata": {},
   "outputs": [
    {
     "data": {
      "text/plain": [
       "['apple', 'guava', 'cherry', 'kiwi', 'banana']"
      ]
     },
     "execution_count": 24,
     "metadata": {},
     "output_type": "execute_result"
    }
   ],
   "source": [
    "## Modifying list elements\n",
    "fruits"
   ]
  },
  {
   "cell_type": "code",
   "execution_count": 25,
   "id": "1f64de48",
   "metadata": {},
   "outputs": [
    {
     "name": "stdout",
     "output_type": "stream",
     "text": [
      "['apple', 'watermelon', 'cherry', 'kiwi', 'banana']\n"
     ]
    }
   ],
   "source": [
    "fruits[1]=\"watermelon\"\n",
    "print(fruits)"
   ]
  },
  {
   "cell_type": "code",
   "execution_count": 33,
   "id": "e832cfc1",
   "metadata": {},
   "outputs": [
    {
     "name": "stdout",
     "output_type": "stream",
     "text": [
      "['plum', 'apple', 'plum', 'plum', 'watermelon', 'cherry', 'kiwi', 'banana', 'orange', 'orange']\n"
     ]
    }
   ],
   "source": [
    "## List Methods \n",
    "\n",
    "fruits.append(\"orange\") ## add an item to the end\n",
    "print(fruits)\n"
   ]
  },
  {
   "cell_type": "code",
   "execution_count": 37,
   "id": "eeaab4f5",
   "metadata": {},
   "outputs": [
    {
     "name": "stdout",
     "output_type": "stream",
     "text": [
      "['plum', 'apple', 'plum', 'watermelon', 'cherry', 'kiwi', 'banana', 'orange', 'orange']\n"
     ]
    }
   ],
   "source": [
    "fruits.insert(0,\"plum\")\n",
    "print(fruits)"
   ]
  },
  {
   "cell_type": "code",
   "execution_count": 38,
   "id": "5c8dd328",
   "metadata": {},
   "outputs": [
    {
     "name": "stdout",
     "output_type": "stream",
     "text": [
      "['apple', 'plum', 'watermelon', 'cherry', 'kiwi', 'banana', 'orange', 'orange']\n"
     ]
    }
   ],
   "source": [
    "fruits.remove(\"plum\")\n",
    "print(fruits)"
   ]
  },
  {
   "cell_type": "code",
   "execution_count": 39,
   "id": "d95ab1bd",
   "metadata": {},
   "outputs": [
    {
     "name": "stdout",
     "output_type": "stream",
     "text": [
      "orange\n"
     ]
    }
   ],
   "source": [
    "## remove and return the last item \n",
    "popped_fruits = fruits.pop()\n",
    "print(popped_fruits)"
   ]
  },
  {
   "cell_type": "code",
   "execution_count": 41,
   "id": "990278fd",
   "metadata": {},
   "outputs": [
    {
     "name": "stdout",
     "output_type": "stream",
     "text": [
      "3\n"
     ]
    }
   ],
   "source": [
    "index =fruits.index(\"cherry\")\n",
    "print(index)"
   ]
  },
  {
   "cell_type": "code",
   "execution_count": 42,
   "id": "69c11253",
   "metadata": {},
   "outputs": [
    {
     "name": "stdout",
     "output_type": "stream",
     "text": [
      "1\n"
     ]
    }
   ],
   "source": [
    "print(fruits.count(\"banana\"))"
   ]
  },
  {
   "cell_type": "markdown",
   "id": "cc4290bb",
   "metadata": {},
   "source": [
    "# Sort the List"
   ]
  },
  {
   "cell_type": "code",
   "execution_count": null,
   "id": "5ad3d83f",
   "metadata": {},
   "outputs": [
    {
     "name": "stdout",
     "output_type": "stream",
     "text": [
      "['apple', 'banana', 'cherry', 'kiwi', 'orange', 'plum', 'watermelon']\n"
     ]
    }
   ],
   "source": [
    "fruits.sort() #\n",
    "print(fruits)"
   ]
  },
  {
   "cell_type": "markdown",
   "id": "b12c5fec",
   "metadata": {},
   "source": [
    "## Reverse the list "
   ]
  },
  {
   "cell_type": "code",
   "execution_count": null,
   "id": "53f272e5",
   "metadata": {},
   "outputs": [
    {
     "name": "stdout",
     "output_type": "stream",
     "text": [
      "['watermelon', 'plum', 'orange', 'kiwi', 'cherry', 'banana', 'apple']\n"
     ]
    }
   ],
   "source": [
    "fruits.reverse()  \n",
    "print(fruits)"
   ]
  },
  {
   "cell_type": "markdown",
   "id": "99d9af08",
   "metadata": {},
   "source": [
    "## Slicing List"
   ]
  },
  {
   "cell_type": "code",
   "execution_count": 45,
   "id": "467164cf",
   "metadata": {},
   "outputs": [
    {
     "name": "stdout",
     "output_type": "stream",
     "text": [
      "[3, 4, 5]\n",
      "[1, 2, 3, 4, 5]\n",
      "[6, 7, 8, 9, 10]\n",
      "10\n"
     ]
    }
   ],
   "source": [
    "numbers = [1,2,3,4,5,6,7,8,9,10]\n",
    "print(numbers[2:5])\n",
    "print(numbers[:5])\n",
    "print(numbers[5:])\n",
    "print(numbers[-1])"
   ]
  },
  {
   "cell_type": "code",
   "execution_count": null,
   "id": "beaaca40",
   "metadata": {},
   "outputs": [
    {
     "data": {
      "text/plain": [
       "[1, 4, 7, 10]"
      ]
     },
     "execution_count": 46,
     "metadata": {},
     "output_type": "execute_result"
    }
   ],
   "source": [
    "numbers[::3]   ## Skips three Numbers in between every element"
   ]
  },
  {
   "cell_type": "code",
   "execution_count": null,
   "id": "c26861c6",
   "metadata": {},
   "outputs": [
    {
     "data": {
      "text/plain": [
       "[10, 8, 6, 4, 2]"
      ]
     },
     "execution_count": 47,
     "metadata": {},
     "output_type": "execute_result"
    }
   ],
   "source": [
    "numbers[::-2]   ## skips two numbers from reverse"
   ]
  },
  {
   "cell_type": "markdown",
   "id": "d77f8bed",
   "metadata": {},
   "source": [
    "## Iterating over lists\n"
   ]
  },
  {
   "cell_type": "code",
   "execution_count": 48,
   "id": "888500a2",
   "metadata": {},
   "outputs": [
    {
     "name": "stdout",
     "output_type": "stream",
     "text": [
      "1\n",
      "2\n",
      "3\n",
      "4\n",
      "5\n",
      "6\n",
      "7\n",
      "8\n",
      "9\n",
      "10\n"
     ]
    }
   ],
   "source": [
    "for number in numbers:\n",
    "    print(number)"
   ]
  },
  {
   "cell_type": "markdown",
   "id": "67b27f1c",
   "metadata": {},
   "source": [
    "## Iterating with index"
   ]
  },
  {
   "cell_type": "code",
   "execution_count": 49,
   "id": "b8ad81cc",
   "metadata": {},
   "outputs": [
    {
     "name": "stdout",
     "output_type": "stream",
     "text": [
      "0 1\n",
      "1 2\n",
      "2 3\n",
      "3 4\n",
      "4 5\n",
      "5 6\n",
      "6 7\n",
      "7 8\n",
      "8 9\n",
      "9 10\n"
     ]
    }
   ],
   "source": [
    "for index,number in enumerate(numbers):\n",
    "    print(index,number)"
   ]
  },
  {
   "cell_type": "markdown",
   "id": "a9e521cc",
   "metadata": {},
   "source": [
    "## List comprehension"
   ]
  },
  {
   "cell_type": "code",
   "execution_count": 50,
   "id": "5be0229c",
   "metadata": {},
   "outputs": [
    {
     "name": "stdout",
     "output_type": "stream",
     "text": [
      "[0, 1, 4, 9, 16, 25, 36, 49, 64, 81]\n"
     ]
    }
   ],
   "source": [
    "lst = []\n",
    "for x in range(10):\n",
    "    lst.append(x**2)\n",
    "\n",
    "print(lst)    \n"
   ]
  },
  {
   "cell_type": "code",
   "execution_count": 51,
   "id": "b1a9c59e",
   "metadata": {},
   "outputs": [
    {
     "data": {
      "text/plain": [
       "[0, 1, 4, 9, 16, 25, 36, 49, 64, 81]"
      ]
     },
     "execution_count": 51,
     "metadata": {},
     "output_type": "execute_result"
    }
   ],
   "source": [
    "[x**2 for x in range(10)]"
   ]
  },
  {
   "cell_type": "markdown",
   "id": "18d40432",
   "metadata": {},
   "source": [
    "#### List comprehension\n",
    "\n",
    "Besic Syntex               [ expression for item in iterable]  \n",
    "\n",
    "with conditional logic     [expression for item in iterable if condition]  \n",
    "\n",
    "Nested List Comprehension  [expression for item1 in iterble1 and item2 in iterable2]"
   ]
  },
  {
   "cell_type": "code",
   "execution_count": 52,
   "id": "1ef7261b",
   "metadata": {},
   "outputs": [
    {
     "name": "stdout",
     "output_type": "stream",
     "text": [
      "[0, 1, 4, 9, 16, 25, 36, 49, 64, 81]\n"
     ]
    }
   ],
   "source": [
    "### Besic list comprehension \n",
    "square=[num**2 for num in range(10)]\n",
    "print(square)"
   ]
  },
  {
   "cell_type": "code",
   "execution_count": 53,
   "id": "2528eb3b",
   "metadata": {},
   "outputs": [
    {
     "name": "stdout",
     "output_type": "stream",
     "text": [
      "[0, 2, 4, 6, 8]\n"
     ]
    }
   ],
   "source": [
    "## List comprehension with Condition\n",
    "\n",
    "lst = []\n",
    "for i in range(10):\n",
    "    if i%2==0:\n",
    "        lst.append(i)\n",
    "print(lst)"
   ]
  },
  {
   "cell_type": "code",
   "execution_count": 54,
   "id": "057c8edf",
   "metadata": {},
   "outputs": [
    {
     "name": "stdout",
     "output_type": "stream",
     "text": [
      "[0, 2, 4, 6, 8]\n"
     ]
    }
   ],
   "source": [
    "even_numbers = [num for num in range(10) if num%2==0]\n",
    "print(even_numbers)"
   ]
  },
  {
   "cell_type": "code",
   "execution_count": 55,
   "id": "83e48a8b",
   "metadata": {},
   "outputs": [
    {
     "name": "stdout",
     "output_type": "stream",
     "text": [
      "[[1, 'a'], [1, 'b'], [1, 'c'], [1, 'd'], [2, 'a'], [2, 'b'], [2, 'c'], [2, 'd'], [3, 'a'], [3, 'b'], [3, 'c'], [3, 'd'], [4, 'a'], [4, 'b'], [4, 'c'], [4, 'd']]\n"
     ]
    }
   ],
   "source": [
    "## Nested loop Comprehension \n",
    "lst1=[1,2,3,4]\n",
    "lst2=['a','b','c','d']\n",
    "\n",
    "pair = [[i,j] for i in lst1 for j in lst2]\n",
    "print(pair)"
   ]
  },
  {
   "cell_type": "code",
   "execution_count": 56,
   "id": "39711f70",
   "metadata": {},
   "outputs": [
    {
     "name": "stdout",
     "output_type": "stream",
     "text": [
      "[5, 5, 6, 4, 13]\n"
     ]
    }
   ],
   "source": [
    "### list Comprehension with function calls\n",
    "words = [\"hello\",\"world\",\"python\",\"list\",\"comprehension\"]\n",
    "lenghts = [len(word) for word in words]\n",
    "print(lenghts)"
   ]
  }
 ],
 "metadata": {
  "kernelspec": {
   "display_name": "Python 3",
   "language": "python",
   "name": "python3"
  },
  "language_info": {
   "codemirror_mode": {
    "name": "ipython",
    "version": 3
   },
   "file_extension": ".py",
   "mimetype": "text/x-python",
   "name": "python",
   "nbconvert_exporter": "python",
   "pygments_lexer": "ipython3",
   "version": "3.10.0"
  }
 },
 "nbformat": 4,
 "nbformat_minor": 5
}
